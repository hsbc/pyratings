{
 "cells": [
  {
   "cell_type": "markdown",
   "source": [
    "# Getting started\n",
    "\n",
    "_pyratings_ is made for working with credit ratings in a professionally and\n",
    "efficiently manner.\n",
    "\n",
    "The following code demonstrates how to compute an average rating on a portfolio basis\n",
    "as well as the weighted average rating factor (WARF). This should give you a thorough\n",
    "introduction into the usage of _pyratings_.\n",
    "\n",
    "## Preliminary tasks\n",
    "\n",
    "As a first step and as a basis for both tasks, we are going to import a portfolio\n",
    "into a `pd.DataFrame`. We'll call it `port_df`."
   ],
   "metadata": {
    "collapsed": false,
    "pycharm": {
     "name": "#%% md\n"
    }
   }
  },
  {
   "cell_type": "code",
   "execution_count": 1,
   "outputs": [
    {
     "data": {
      "text/plain": "           ISIN    weight BB Comp   SP   Moody Fitch\n0  ISIN00000001  0.518515     AAA   NR  Aaa *-   AAA\n1  ISIN00000002  0.950810     AAA  AA+     Aaa   AAA\n2  ISIN00000003  0.497176  AA+ *-  AA+     Aa2   NaN\n3  ISIN00000004  0.648453      NR  NaN      NR  AA-u\n4  ISIN00000005  0.674328      NR  NaN      NR  AA-u",
      "text/html": "<div>\n<style scoped>\n    .dataframe tbody tr th:only-of-type {\n        vertical-align: middle;\n    }\n\n    .dataframe tbody tr th {\n        vertical-align: top;\n    }\n\n    .dataframe thead th {\n        text-align: right;\n    }\n</style>\n<table border=\"1\" class=\"dataframe\">\n  <thead>\n    <tr style=\"text-align: right;\">\n      <th></th>\n      <th>ISIN</th>\n      <th>weight</th>\n      <th>BB Comp</th>\n      <th>SP</th>\n      <th>Moody</th>\n      <th>Fitch</th>\n    </tr>\n  </thead>\n  <tbody>\n    <tr>\n      <th>0</th>\n      <td>ISIN00000001</td>\n      <td>0.518515</td>\n      <td>AAA</td>\n      <td>NR</td>\n      <td>Aaa *-</td>\n      <td>AAA</td>\n    </tr>\n    <tr>\n      <th>1</th>\n      <td>ISIN00000002</td>\n      <td>0.950810</td>\n      <td>AAA</td>\n      <td>AA+</td>\n      <td>Aaa</td>\n      <td>AAA</td>\n    </tr>\n    <tr>\n      <th>2</th>\n      <td>ISIN00000003</td>\n      <td>0.497176</td>\n      <td>AA+ *-</td>\n      <td>AA+</td>\n      <td>Aa2</td>\n      <td>NaN</td>\n    </tr>\n    <tr>\n      <th>3</th>\n      <td>ISIN00000004</td>\n      <td>0.648453</td>\n      <td>NR</td>\n      <td>NaN</td>\n      <td>NR</td>\n      <td>AA-u</td>\n    </tr>\n    <tr>\n      <th>4</th>\n      <td>ISIN00000005</td>\n      <td>0.674328</td>\n      <td>NR</td>\n      <td>NaN</td>\n      <td>NR</td>\n      <td>AA-u</td>\n    </tr>\n  </tbody>\n</table>\n</div>"
     },
     "execution_count": 1,
     "metadata": {},
     "output_type": "execute_result"
    }
   ],
   "source": [
    "import pandas as pd\n",
    "\n",
    "import pyratings as rtg\n",
    "\n",
    "port_df = pd.read_excel(\"portfolio.xlsx\")\n",
    "port_df.head()"
   ],
   "metadata": {
    "collapsed": false,
    "pycharm": {
     "name": "#%%\n"
    }
   }
  },
  {
   "cell_type": "markdown",
   "source": [
    "By looking at the very first rows of `port_df`, we can see that some\n",
    "ratings do have a _watch_ attached. This is marked by the `*-` suffix, which\n",
    "follows the actual rating after a blank.\n",
    "Other ratings are unsolicited. In this case, the rating is followed by the letter\n",
    "`u`.\n",
    "In order to translate ratings into scores, we first need to clean up the ratings,\n",
    "that is, we need to strip off _watches_ etc. We are going to use the\n",
    "[get_pure_ratings](../api_reference/#pyratings.clean.get_pure_ratings) function.\n",
    "This function works on strings, so we need to make sure to pass the relevant columns."
   ],
   "metadata": {
    "collapsed": false,
    "pycharm": {
     "name": "#%% md\n"
    }
   }
  },
  {
   "cell_type": "code",
   "execution_count": 2,
   "outputs": [
    {
     "data": {
      "text/plain": "  BB Comp_clean SP_clean Moody_clean Fitch_clean\n0           AAA       NR         Aaa         AAA\n1           AAA      AA+         Aaa         AAA\n2           AA+      AA+         Aa2         NaN\n3            NR      NaN          NR         AA-\n4            NR      NaN          NR         AA-",
      "text/html": "<div>\n<style scoped>\n    .dataframe tbody tr th:only-of-type {\n        vertical-align: middle;\n    }\n\n    .dataframe tbody tr th {\n        vertical-align: top;\n    }\n\n    .dataframe thead th {\n        text-align: right;\n    }\n</style>\n<table border=\"1\" class=\"dataframe\">\n  <thead>\n    <tr style=\"text-align: right;\">\n      <th></th>\n      <th>BB Comp_clean</th>\n      <th>SP_clean</th>\n      <th>Moody_clean</th>\n      <th>Fitch_clean</th>\n    </tr>\n  </thead>\n  <tbody>\n    <tr>\n      <th>0</th>\n      <td>AAA</td>\n      <td>NR</td>\n      <td>Aaa</td>\n      <td>AAA</td>\n    </tr>\n    <tr>\n      <th>1</th>\n      <td>AAA</td>\n      <td>AA+</td>\n      <td>Aaa</td>\n      <td>AAA</td>\n    </tr>\n    <tr>\n      <th>2</th>\n      <td>AA+</td>\n      <td>AA+</td>\n      <td>Aa2</td>\n      <td>NaN</td>\n    </tr>\n    <tr>\n      <th>3</th>\n      <td>NR</td>\n      <td>NaN</td>\n      <td>NR</td>\n      <td>AA-</td>\n    </tr>\n    <tr>\n      <th>4</th>\n      <td>NR</td>\n      <td>NaN</td>\n      <td>NR</td>\n      <td>AA-</td>\n    </tr>\n  </tbody>\n</table>\n</div>"
     },
     "execution_count": 2,
     "metadata": {},
     "output_type": "execute_result"
    }
   ],
   "source": [
    "ratings_clean_df = rtg.get_pure_ratings(\n",
    "    port_df.loc[:, [\"BB Comp\", \"SP\", \"Moody\", \"Fitch\"]]\n",
    ")\n",
    "ratings_clean_df.head()"
   ],
   "metadata": {
    "collapsed": false,
    "pycharm": {
     "name": "#%%\n"
    }
   }
  },
  {
   "cell_type": "markdown",
   "source": [
    "As you can see, the suffix \"\\_clean\", has automatically been added to the column\n",
    "headings. Let's add these _clean_ ratings to `port_df` by simple concatenation."
   ],
   "metadata": {
    "collapsed": false,
    "pycharm": {
     "name": "#%% md\n"
    }
   }
  },
  {
   "cell_type": "code",
   "execution_count": 3,
   "outputs": [
    {
     "data": {
      "text/plain": "           ISIN    weight BB Comp   SP   Moody Fitch BB Comp_clean SP_clean  \\\n0  ISIN00000001  0.518515     AAA   NR  Aaa *-   AAA           AAA       NR   \n1  ISIN00000002  0.950810     AAA  AA+     Aaa   AAA           AAA      AA+   \n2  ISIN00000003  0.497176  AA+ *-  AA+     Aa2   NaN           AA+      AA+   \n3  ISIN00000004  0.648453      NR  NaN      NR  AA-u            NR      NaN   \n4  ISIN00000005  0.674328      NR  NaN      NR  AA-u            NR      NaN   \n\n  Moody_clean Fitch_clean  \n0         Aaa         AAA  \n1         Aaa         AAA  \n2         Aa2         NaN  \n3          NR         AA-  \n4          NR         AA-  ",
      "text/html": "<div>\n<style scoped>\n    .dataframe tbody tr th:only-of-type {\n        vertical-align: middle;\n    }\n\n    .dataframe tbody tr th {\n        vertical-align: top;\n    }\n\n    .dataframe thead th {\n        text-align: right;\n    }\n</style>\n<table border=\"1\" class=\"dataframe\">\n  <thead>\n    <tr style=\"text-align: right;\">\n      <th></th>\n      <th>ISIN</th>\n      <th>weight</th>\n      <th>BB Comp</th>\n      <th>SP</th>\n      <th>Moody</th>\n      <th>Fitch</th>\n      <th>BB Comp_clean</th>\n      <th>SP_clean</th>\n      <th>Moody_clean</th>\n      <th>Fitch_clean</th>\n    </tr>\n  </thead>\n  <tbody>\n    <tr>\n      <th>0</th>\n      <td>ISIN00000001</td>\n      <td>0.518515</td>\n      <td>AAA</td>\n      <td>NR</td>\n      <td>Aaa *-</td>\n      <td>AAA</td>\n      <td>AAA</td>\n      <td>NR</td>\n      <td>Aaa</td>\n      <td>AAA</td>\n    </tr>\n    <tr>\n      <th>1</th>\n      <td>ISIN00000002</td>\n      <td>0.950810</td>\n      <td>AAA</td>\n      <td>AA+</td>\n      <td>Aaa</td>\n      <td>AAA</td>\n      <td>AAA</td>\n      <td>AA+</td>\n      <td>Aaa</td>\n      <td>AAA</td>\n    </tr>\n    <tr>\n      <th>2</th>\n      <td>ISIN00000003</td>\n      <td>0.497176</td>\n      <td>AA+ *-</td>\n      <td>AA+</td>\n      <td>Aa2</td>\n      <td>NaN</td>\n      <td>AA+</td>\n      <td>AA+</td>\n      <td>Aa2</td>\n      <td>NaN</td>\n    </tr>\n    <tr>\n      <th>3</th>\n      <td>ISIN00000004</td>\n      <td>0.648453</td>\n      <td>NR</td>\n      <td>NaN</td>\n      <td>NR</td>\n      <td>AA-u</td>\n      <td>NR</td>\n      <td>NaN</td>\n      <td>NR</td>\n      <td>AA-</td>\n    </tr>\n    <tr>\n      <th>4</th>\n      <td>ISIN00000005</td>\n      <td>0.674328</td>\n      <td>NR</td>\n      <td>NaN</td>\n      <td>NR</td>\n      <td>AA-u</td>\n      <td>NR</td>\n      <td>NaN</td>\n      <td>NR</td>\n      <td>AA-</td>\n    </tr>\n  </tbody>\n</table>\n</div>"
     },
     "execution_count": 3,
     "metadata": {},
     "output_type": "execute_result"
    }
   ],
   "source": [
    "port_df = pd.concat([port_df, ratings_clean_df], axis=1)\n",
    "port_df.head()"
   ],
   "metadata": {
    "collapsed": false,
    "pycharm": {
     "name": "#%%\n"
    }
   }
  },
  {
   "cell_type": "markdown",
   "source": [
    "Now, in order to compute an average rating or WARF, respectively, we need to\n",
    "consolidate the ratings on a\n",
    "row basis, i.e. we need to assign one and only one concrete rating to an individual\n",
    "security.<br>\n",
    "There are several solutions to this problem. Oftentimes, you may want to compute the\n",
    "__worst__ rating among all rating agencies. It is also fairly common to calculate the\n",
    "__second best__ rating.<br>\n",
    "_pyratings_ offers a number of functions in order to accomplish this task, such as\n",
    "\n",
    "* [get_best_ratings](../api_reference/#pyratings.consolidate.get_best_ratings)\n",
    "* [get_second_best_ratings](../api_reference/#pyratings.consolidate.get_second_best_ratings)\n",
    "* [get_worst_ratings](../api_reference/#pyratings.consolidate.get_worst_ratings)\n",
    "\n",
    "Let's compute the __worst ratings__ and directly concatenate the newly computed\n",
    "column to our existing `port_df` in one batch. _pyratings_ automatically names the\n",
    "new column \"worst_rtg\"."
   ],
   "metadata": {
    "collapsed": false,
    "pycharm": {
     "name": "#%% md\n"
    }
   }
  },
  {
   "cell_type": "code",
   "execution_count": 4,
   "outputs": [
    {
     "data": {
      "text/plain": "           ISIN    weight BB Comp   SP   Moody Fitch BB Comp_clean SP_clean  \\\n0  ISIN00000001  0.518515     AAA   NR  Aaa *-   AAA           AAA       NR   \n1  ISIN00000002  0.950810     AAA  AA+     Aaa   AAA           AAA      AA+   \n2  ISIN00000003  0.497176  AA+ *-  AA+     Aa2   NaN           AA+      AA+   \n3  ISIN00000004  0.648453      NR  NaN      NR  AA-u            NR      NaN   \n4  ISIN00000005  0.674328      NR  NaN      NR  AA-u            NR      NaN   \n\n  Moody_clean Fitch_clean worst_rtg  \n0         Aaa         AAA       AAA  \n1         Aaa         AAA       AA+  \n2         Aa2         NaN        AA  \n3          NR         AA-       AA-  \n4          NR         AA-       AA-  ",
      "text/html": "<div>\n<style scoped>\n    .dataframe tbody tr th:only-of-type {\n        vertical-align: middle;\n    }\n\n    .dataframe tbody tr th {\n        vertical-align: top;\n    }\n\n    .dataframe thead th {\n        text-align: right;\n    }\n</style>\n<table border=\"1\" class=\"dataframe\">\n  <thead>\n    <tr style=\"text-align: right;\">\n      <th></th>\n      <th>ISIN</th>\n      <th>weight</th>\n      <th>BB Comp</th>\n      <th>SP</th>\n      <th>Moody</th>\n      <th>Fitch</th>\n      <th>BB Comp_clean</th>\n      <th>SP_clean</th>\n      <th>Moody_clean</th>\n      <th>Fitch_clean</th>\n      <th>worst_rtg</th>\n    </tr>\n  </thead>\n  <tbody>\n    <tr>\n      <th>0</th>\n      <td>ISIN00000001</td>\n      <td>0.518515</td>\n      <td>AAA</td>\n      <td>NR</td>\n      <td>Aaa *-</td>\n      <td>AAA</td>\n      <td>AAA</td>\n      <td>NR</td>\n      <td>Aaa</td>\n      <td>AAA</td>\n      <td>AAA</td>\n    </tr>\n    <tr>\n      <th>1</th>\n      <td>ISIN00000002</td>\n      <td>0.950810</td>\n      <td>AAA</td>\n      <td>AA+</td>\n      <td>Aaa</td>\n      <td>AAA</td>\n      <td>AAA</td>\n      <td>AA+</td>\n      <td>Aaa</td>\n      <td>AAA</td>\n      <td>AA+</td>\n    </tr>\n    <tr>\n      <th>2</th>\n      <td>ISIN00000003</td>\n      <td>0.497176</td>\n      <td>AA+ *-</td>\n      <td>AA+</td>\n      <td>Aa2</td>\n      <td>NaN</td>\n      <td>AA+</td>\n      <td>AA+</td>\n      <td>Aa2</td>\n      <td>NaN</td>\n      <td>AA</td>\n    </tr>\n    <tr>\n      <th>3</th>\n      <td>ISIN00000004</td>\n      <td>0.648453</td>\n      <td>NR</td>\n      <td>NaN</td>\n      <td>NR</td>\n      <td>AA-u</td>\n      <td>NR</td>\n      <td>NaN</td>\n      <td>NR</td>\n      <td>AA-</td>\n      <td>AA-</td>\n    </tr>\n    <tr>\n      <th>4</th>\n      <td>ISIN00000005</td>\n      <td>0.674328</td>\n      <td>NR</td>\n      <td>NaN</td>\n      <td>NR</td>\n      <td>AA-u</td>\n      <td>NR</td>\n      <td>NaN</td>\n      <td>NR</td>\n      <td>AA-</td>\n      <td>AA-</td>\n    </tr>\n  </tbody>\n</table>\n</div>"
     },
     "execution_count": 4,
     "metadata": {},
     "output_type": "execute_result"
    }
   ],
   "source": [
    "port_df = pd.concat(\n",
    "    [\n",
    "        port_df,\n",
    "        rtg.get_worst_ratings(\n",
    "            port_df[[\"BB Comp_clean\", \"SP_clean\", \"Moody_clean\", \"Fitch_clean\"]],\n",
    "            rating_provider_input=[\"Bloomberg\", \"S&P\", \"Moody's\", \"Fitch\"],\n",
    "            rating_provider_output=\"S&P\"\n",
    "        )\n",
    "    ],\n",
    "    axis=1,\n",
    ")\n",
    "\n",
    "port_df.head()"
   ],
   "metadata": {
    "collapsed": false,
    "pycharm": {
     "name": "#%%\n"
    }
   }
  },
  {
   "cell_type": "markdown",
   "source": [
    "## Computing the average rating of a portfolio\n",
    "\n",
    "The column <i>worst_rtg</i> will be used in order to translate the ratings into scores\n",
    "according to the following table.\n",
    "\n",
    "| Moody’s |  S&P | Fitch | Bloomberg | DBRS |  ICE | Score |\n",
    "|:-------:|:----:|:-----:|:---------:|:----:|:----:|------:|\n",
    "|   Aaa   |  AAA |  AAA  |    AAA    |  AAA |  AAA |     1 |\n",
    "|   Aa1   |  AA+ |  AA+  |    AA+    |  AAH |  AA+ |     2 |\n",
    "|   Aa2   |  AA  |   AA  |     AA    |  AA  |  AA  |     3 |\n",
    "|   Aa3   |  AA- |  AA-  |    AA-    |  AAL |  AA- |     4 |\n",
    "|    A1   |  A+  |   A+  |     A+    |  AH  |  A+  |     5 |\n",
    "|    A2   |   A  |   A   |     A     |   A  |   A  |     6 |\n",
    "|    A3   |  A-  |   A-  |     A-    |  AL  |  A-  |     7 |\n",
    "|   Baa1  | BBB+ |  BBB+ |    BBB+   | BBBH | BBB+ |     8 |\n",
    "|   Baa2  |  BBB |  BBB  |    BBB    |  BBB |  BBB |     9 |\n",
    "|   Baa3  | BBB- |  BBB- |    BBB-   | BBBL | BBB- |    10 |\n",
    "|   Ba1   |  BB+ |  BB+  |    BB+    |  BBH |  BB+ |    11 |\n",
    "|   Ba2   |  BB  |   BB  |     BB    |  BB  |  BB  |    12 |\n",
    "|   Ba3   |  BB- |  BB-  |    BB-    |  BBL |  BB- |    13 |\n",
    "|    B1   |  B+  |   B+  |     B+    |  BH  |  B+  |    14 |\n",
    "|    B2   |   B  |   B   |     B     |   B  |   B  |    15 |\n",
    "|    B3   |  B-  |   B-  |     B-    |  BL  |  B-  |    16 |\n",
    "|   Caa1  | CCC+ |  CCC+ |    CCC+   | CCCH | CCC+ |    17 |\n",
    "|   Caa2  |  CCC |  CCC  |    CCC    |  CCC |  CCC |    18 |\n",
    "|   Caa3  | CCC- |  CCC- |    CCC-   | CCCL | CCC- |    19 |\n",
    "|    Ca   |  CC  |   CC  |     CC    |  CC  |  CC  |    20 |\n",
    "|    C    |   C  |   C   |     C     |   C  |   C  |    21 |\n",
    "|    D    |   D  |   D   |    DDD    |   D  |   D  |    22 |\n",
    "|    SD   |  SD  |   SD  |    ---    |  --- |  --- |    22 |\n",
    "\n",
    "The function [get_scores_from_ratings](../api_reference/#pyratings.get_scores.get_scores_from_ratings)\n",
    "will solve this issue. The function needs a rating provider (here: \"S&P\") in order to\n",
    " select an appropriate translation dictionary."
   ],
   "metadata": {
    "collapsed": false,
    "pycharm": {
     "name": "#%% md\n"
    }
   }
  },
  {
   "cell_type": "code",
   "execution_count": 5,
   "outputs": [
    {
     "data": {
      "text/plain": "            ISIN    weight BB Comp   SP   Moody Fitch BB Comp_clean SP_clean  \\\n0   ISIN00000001  0.518515     AAA   NR  Aaa *-   AAA           AAA       NR   \n1   ISIN00000002  0.950810     AAA  AA+     Aaa   AAA           AAA      AA+   \n2   ISIN00000003  0.497176  AA+ *-  AA+     Aa2   NaN           AA+      AA+   \n3   ISIN00000004  0.648453      NR  NaN      NR  AA-u            NR      NaN   \n4   ISIN00000005  0.674328      NR  NaN      NR  AA-u            NR      NaN   \n..           ...       ...     ...  ...     ...   ...           ...      ...   \n82  ISIN00000083  2.321185      NR  NaN    Baa1   NaN            NR      NaN   \n83  ISIN00000084  1.389043      NR  NaN    Baa1   NaN            NR      NaN   \n84  ISIN00000085  2.296711    BBB+   NR    Baa1    A-          BBB+       NR   \n85  ISIN00000086  1.015105     AAA  AAA     Aaa   NaN           AAA      AAA   \n86  ISIN00000087  0.964399      AA  NaN     Aa2    AA            AA      NaN   \n\n   Moody_clean Fitch_clean worst_rtg  rtg_score_worst_rtg  \n0          Aaa         AAA       AAA                  1.0  \n1          Aaa         AAA       AA+                  2.0  \n2          Aa2         NaN        AA                  3.0  \n3           NR         AA-       AA-                  4.0  \n4           NR         AA-       AA-                  4.0  \n..         ...         ...       ...                  ...  \n82        Baa1         NaN      BBB+                  8.0  \n83        Baa1         NaN      BBB+                  8.0  \n84        Baa1          A-      BBB+                  8.0  \n85         Aaa         NaN       AAA                  1.0  \n86         Aa2          AA        AA                  3.0  \n\n[87 rows x 12 columns]",
      "text/html": "<div>\n<style scoped>\n    .dataframe tbody tr th:only-of-type {\n        vertical-align: middle;\n    }\n\n    .dataframe tbody tr th {\n        vertical-align: top;\n    }\n\n    .dataframe thead th {\n        text-align: right;\n    }\n</style>\n<table border=\"1\" class=\"dataframe\">\n  <thead>\n    <tr style=\"text-align: right;\">\n      <th></th>\n      <th>ISIN</th>\n      <th>weight</th>\n      <th>BB Comp</th>\n      <th>SP</th>\n      <th>Moody</th>\n      <th>Fitch</th>\n      <th>BB Comp_clean</th>\n      <th>SP_clean</th>\n      <th>Moody_clean</th>\n      <th>Fitch_clean</th>\n      <th>worst_rtg</th>\n      <th>rtg_score_worst_rtg</th>\n    </tr>\n  </thead>\n  <tbody>\n    <tr>\n      <th>0</th>\n      <td>ISIN00000001</td>\n      <td>0.518515</td>\n      <td>AAA</td>\n      <td>NR</td>\n      <td>Aaa *-</td>\n      <td>AAA</td>\n      <td>AAA</td>\n      <td>NR</td>\n      <td>Aaa</td>\n      <td>AAA</td>\n      <td>AAA</td>\n      <td>1.0</td>\n    </tr>\n    <tr>\n      <th>1</th>\n      <td>ISIN00000002</td>\n      <td>0.950810</td>\n      <td>AAA</td>\n      <td>AA+</td>\n      <td>Aaa</td>\n      <td>AAA</td>\n      <td>AAA</td>\n      <td>AA+</td>\n      <td>Aaa</td>\n      <td>AAA</td>\n      <td>AA+</td>\n      <td>2.0</td>\n    </tr>\n    <tr>\n      <th>2</th>\n      <td>ISIN00000003</td>\n      <td>0.497176</td>\n      <td>AA+ *-</td>\n      <td>AA+</td>\n      <td>Aa2</td>\n      <td>NaN</td>\n      <td>AA+</td>\n      <td>AA+</td>\n      <td>Aa2</td>\n      <td>NaN</td>\n      <td>AA</td>\n      <td>3.0</td>\n    </tr>\n    <tr>\n      <th>3</th>\n      <td>ISIN00000004</td>\n      <td>0.648453</td>\n      <td>NR</td>\n      <td>NaN</td>\n      <td>NR</td>\n      <td>AA-u</td>\n      <td>NR</td>\n      <td>NaN</td>\n      <td>NR</td>\n      <td>AA-</td>\n      <td>AA-</td>\n      <td>4.0</td>\n    </tr>\n    <tr>\n      <th>4</th>\n      <td>ISIN00000005</td>\n      <td>0.674328</td>\n      <td>NR</td>\n      <td>NaN</td>\n      <td>NR</td>\n      <td>AA-u</td>\n      <td>NR</td>\n      <td>NaN</td>\n      <td>NR</td>\n      <td>AA-</td>\n      <td>AA-</td>\n      <td>4.0</td>\n    </tr>\n    <tr>\n      <th>...</th>\n      <td>...</td>\n      <td>...</td>\n      <td>...</td>\n      <td>...</td>\n      <td>...</td>\n      <td>...</td>\n      <td>...</td>\n      <td>...</td>\n      <td>...</td>\n      <td>...</td>\n      <td>...</td>\n      <td>...</td>\n    </tr>\n    <tr>\n      <th>82</th>\n      <td>ISIN00000083</td>\n      <td>2.321185</td>\n      <td>NR</td>\n      <td>NaN</td>\n      <td>Baa1</td>\n      <td>NaN</td>\n      <td>NR</td>\n      <td>NaN</td>\n      <td>Baa1</td>\n      <td>NaN</td>\n      <td>BBB+</td>\n      <td>8.0</td>\n    </tr>\n    <tr>\n      <th>83</th>\n      <td>ISIN00000084</td>\n      <td>1.389043</td>\n      <td>NR</td>\n      <td>NaN</td>\n      <td>Baa1</td>\n      <td>NaN</td>\n      <td>NR</td>\n      <td>NaN</td>\n      <td>Baa1</td>\n      <td>NaN</td>\n      <td>BBB+</td>\n      <td>8.0</td>\n    </tr>\n    <tr>\n      <th>84</th>\n      <td>ISIN00000085</td>\n      <td>2.296711</td>\n      <td>BBB+</td>\n      <td>NR</td>\n      <td>Baa1</td>\n      <td>A-</td>\n      <td>BBB+</td>\n      <td>NR</td>\n      <td>Baa1</td>\n      <td>A-</td>\n      <td>BBB+</td>\n      <td>8.0</td>\n    </tr>\n    <tr>\n      <th>85</th>\n      <td>ISIN00000086</td>\n      <td>1.015105</td>\n      <td>AAA</td>\n      <td>AAA</td>\n      <td>Aaa</td>\n      <td>NaN</td>\n      <td>AAA</td>\n      <td>AAA</td>\n      <td>Aaa</td>\n      <td>NaN</td>\n      <td>AAA</td>\n      <td>1.0</td>\n    </tr>\n    <tr>\n      <th>86</th>\n      <td>ISIN00000087</td>\n      <td>0.964399</td>\n      <td>AA</td>\n      <td>NaN</td>\n      <td>Aa2</td>\n      <td>AA</td>\n      <td>AA</td>\n      <td>NaN</td>\n      <td>Aa2</td>\n      <td>AA</td>\n      <td>AA</td>\n      <td>3.0</td>\n    </tr>\n  </tbody>\n</table>\n<p>87 rows × 12 columns</p>\n</div>"
     },
     "execution_count": 5,
     "metadata": {},
     "output_type": "execute_result"
    }
   ],
   "source": [
    "port_scores_df = pd.concat(\n",
    "    [\n",
    "        port_df,\n",
    "        rtg.get_scores_from_ratings(\n",
    "            ratings=port_df[\"worst_rtg\"],\n",
    "            rating_provider=\"S&P\")\n",
    "    ],\n",
    "    axis=1\n",
    ")\n",
    "\n",
    "port_scores_df"
   ],
   "metadata": {
    "collapsed": false,
    "pycharm": {
     "name": "#%%\n"
    }
   }
  },
  {
   "cell_type": "markdown",
   "source": [
    "Finally, we need to compute a weighted average rating score, which we subsequently\n",
    "convert back into a human-readable rating. For the former, we use the\n",
    "[get_weighted_average](../api_reference/#pyratings.aggregate.get_weighted_average)\n",
    "function and for the latter the\n",
    "[get_ratings_from_scores](../api_reference/#pyratings.get_ratings.get_ratings_from_scores)\n",
    "function."
   ],
   "metadata": {
    "collapsed": false,
    "pycharm": {
     "name": "#%% md\n"
    }
   }
  },
  {
   "cell_type": "code",
   "execution_count": 6,
   "outputs": [
    {
     "name": "stdout",
     "output_type": "stream",
     "text": [
      "Average rating score: 4.387791453932187\n"
     ]
    }
   ],
   "source": [
    "avg_rtg_score = rtg.get_weighted_average(\n",
    "    data=port_scores_df[\"rtg_score_worst_rtg\"],\n",
    "    weights=port_scores_df[\"weight\"] / 100,\n",
    ")\n",
    "print(f\"Average rating score: {avg_rtg_score}\")"
   ],
   "metadata": {
    "collapsed": false,
    "pycharm": {
     "name": "#%%\n"
    }
   }
  },
  {
   "cell_type": "code",
   "execution_count": 7,
   "outputs": [
    {
     "name": "stdout",
     "output_type": "stream",
     "text": [
      "Average portfolio rating: AA-\n"
     ]
    }
   ],
   "source": [
    "avg_rtg = rtg.get_ratings_from_scores(\n",
    "    rating_scores=avg_rtg_score, rating_provider=\"S&P\")\n",
    "print(f\"Average portfolio rating: {avg_rtg}\")"
   ],
   "metadata": {
    "collapsed": false,
    "pycharm": {
     "name": "#%%\n"
    }
   }
  },
  {
   "cell_type": "markdown",
   "source": [
    "## Computing portfolio WARF\n",
    "\n",
    "To compute the portfolio's WARF, we are again going to use __worst ratings__."
   ],
   "metadata": {
    "collapsed": false,
    "pycharm": {
     "name": "#%% md\n"
    }
   }
  },
  {
   "cell_type": "code",
   "execution_count": 8,
   "outputs": [
    {
     "data": {
      "text/plain": "           ISIN    weight BB Comp   SP   Moody Fitch BB Comp_clean SP_clean  \\\n0  ISIN00000001  0.518515     AAA   NR  Aaa *-   AAA           AAA       NR   \n1  ISIN00000002  0.950810     AAA  AA+     Aaa   AAA           AAA      AA+   \n2  ISIN00000003  0.497176  AA+ *-  AA+     Aa2   NaN           AA+      AA+   \n3  ISIN00000004  0.648453      NR  NaN      NR  AA-u            NR      NaN   \n4  ISIN00000005  0.674328      NR  NaN      NR  AA-u            NR      NaN   \n\n  Moody_clean Fitch_clean worst_rtg  \n0         Aaa         AAA       AAA  \n1         Aaa         AAA       AA+  \n2         Aa2         NaN        AA  \n3          NR         AA-       AA-  \n4          NR         AA-       AA-  ",
      "text/html": "<div>\n<style scoped>\n    .dataframe tbody tr th:only-of-type {\n        vertical-align: middle;\n    }\n\n    .dataframe tbody tr th {\n        vertical-align: top;\n    }\n\n    .dataframe thead th {\n        text-align: right;\n    }\n</style>\n<table border=\"1\" class=\"dataframe\">\n  <thead>\n    <tr style=\"text-align: right;\">\n      <th></th>\n      <th>ISIN</th>\n      <th>weight</th>\n      <th>BB Comp</th>\n      <th>SP</th>\n      <th>Moody</th>\n      <th>Fitch</th>\n      <th>BB Comp_clean</th>\n      <th>SP_clean</th>\n      <th>Moody_clean</th>\n      <th>Fitch_clean</th>\n      <th>worst_rtg</th>\n    </tr>\n  </thead>\n  <tbody>\n    <tr>\n      <th>0</th>\n      <td>ISIN00000001</td>\n      <td>0.518515</td>\n      <td>AAA</td>\n      <td>NR</td>\n      <td>Aaa *-</td>\n      <td>AAA</td>\n      <td>AAA</td>\n      <td>NR</td>\n      <td>Aaa</td>\n      <td>AAA</td>\n      <td>AAA</td>\n    </tr>\n    <tr>\n      <th>1</th>\n      <td>ISIN00000002</td>\n      <td>0.950810</td>\n      <td>AAA</td>\n      <td>AA+</td>\n      <td>Aaa</td>\n      <td>AAA</td>\n      <td>AAA</td>\n      <td>AA+</td>\n      <td>Aaa</td>\n      <td>AAA</td>\n      <td>AA+</td>\n    </tr>\n    <tr>\n      <th>2</th>\n      <td>ISIN00000003</td>\n      <td>0.497176</td>\n      <td>AA+ *-</td>\n      <td>AA+</td>\n      <td>Aa2</td>\n      <td>NaN</td>\n      <td>AA+</td>\n      <td>AA+</td>\n      <td>Aa2</td>\n      <td>NaN</td>\n      <td>AA</td>\n    </tr>\n    <tr>\n      <th>3</th>\n      <td>ISIN00000004</td>\n      <td>0.648453</td>\n      <td>NR</td>\n      <td>NaN</td>\n      <td>NR</td>\n      <td>AA-u</td>\n      <td>NR</td>\n      <td>NaN</td>\n      <td>NR</td>\n      <td>AA-</td>\n      <td>AA-</td>\n    </tr>\n    <tr>\n      <th>4</th>\n      <td>ISIN00000005</td>\n      <td>0.674328</td>\n      <td>NR</td>\n      <td>NaN</td>\n      <td>NR</td>\n      <td>AA-u</td>\n      <td>NR</td>\n      <td>NaN</td>\n      <td>NR</td>\n      <td>AA-</td>\n      <td>AA-</td>\n    </tr>\n  </tbody>\n</table>\n</div>"
     },
     "execution_count": 8,
     "metadata": {},
     "output_type": "execute_result"
    }
   ],
   "source": [
    "port_df.head()"
   ],
   "metadata": {
    "collapsed": false,
    "pycharm": {
     "name": "#%%\n"
    }
   }
  },
  {
   "cell_type": "markdown",
   "source": [
    "The column <i>worst_rtg</i> will be used in order to translate the ratings into WARF\n",
    "according to the following table.\n",
    "\n",
    "| Moody’s |  S&P | Fitch |  ICE | DBRS | Bloomberg | Score |  WARF | MinWARF* | MaxWARF* |\n",
    "|:-------:|:----:|:-----:|:----:|:----:|:---------:|------:|------:|---------:|:--------:|\n",
    "|   Aaa   |  AAA |  AAA  |  AAA |  AAA |    AAA    |     1 |     1 |        1 |        5 |\n",
    "|   Aa1   |  AA+ |  AA+  |  AA+ |  AAH |    AA+    |     2 |    10 |        5 |       15 |\n",
    "|   Aa2   |  AA  |   AA  |  AA  |  AA  |     AA    |     3 |    20 |       15 |       30 |\n",
    "|   Aa3   |  AA- |  AA-  |  AA- |  AAL |    AA-    |     4 |    40 |       30 |       55 |\n",
    "|    A1   |  A+  |   A+  |  A+  |  AH  |     A+    |     5 |    70 |       55 |       95 |\n",
    "|    A2   |   A  |   A   |   A  |   A  |     A     |     6 |   120 |       95 |      150 |\n",
    "|    A3   |  A-  |   A-  |  A-  |  AL  |     A-    |     7 |   180 |      150 |      220 |\n",
    "|   Baa1  | BBB+ |  BBB+ | BBB+ | BBBH |    BBB+   |     8 |   260 |      220 |      310 |\n",
    "|   Baa2  |  BBB |  BBB  |  BBB |  BBB |    BBB    |     9 |   360 |      310 |      485 |\n",
    "|   Baa3  | BBB- |  BBB- | BBB- | BBBL |    BBB-   |    10 |   610 |      485 |      775 |\n",
    "|   Ba1   |  BB+ |  BB+  |  BB+ |  BBH |    BB+    |    11 |   940 |      775 |     1145 |\n",
    "|   Ba2   |  BB  |   BB  |  BB  |  BB  |     BB    |    12 |  1350 |     1145 |     1558 |\n",
    "|   Ba3   |  BB- |  BB-  |  BB- |  BBL |    BB-    |    13 |  1766 |     1558 |     1993 |\n",
    "|    B1   |  B+  |   B+  |  B+  |  BH  |     B+    |    14 |  2220 |     1993 |     2470 |\n",
    "|    B2   |   B  |   B   |   B  |   B  |     B     |    15 |  2720 |     2470 |     3105 |\n",
    "|    B3   |  B-  |   B-  |  B-  |  BL  |     B-    |    16 |  3490 |     3105 |     4130 |\n",
    "|   Caa1  | CCC+ |  CCC+ | CCC+ | CCCH |    CCC+   |    17 |  4770 |     4130 |     5635 |\n",
    "|   Caa2  |  CCC |  CCC  |  CCC |  CCC |    CCC    |    18 |  6500 |     5635 |     7285 |\n",
    "|   Caa3  | CCC- |  CCC- | CCC- | CCCL |    CCC-   |    19 |  8070 |     7285 |     9034 |\n",
    "|    Ca   |  CC  |   CC  |  CC  |  CC  |     CC    |    20 |  9998 |     9034 |   9998.5 |\n",
    "|    C    |   C  |   C   |   C  |   C  |     C     |    21 |  9999 |   9998.5 |   9999.5 |\n",
    "|    D    |   D  |   D   |   D  |   D  |    DDD    |    22 | 10000 |   9999.5 |    10000 |\n",
    "\n",
    "`MinWARF` is inclusive, while `MaxWARF` is exclusive.\n",
    "\n",
    "The function [get_warf_from_ratings](../api_reference/#pyratings.get_warf.get_warf_from_ratings)\n",
    "will solve this issue."
   ],
   "metadata": {
    "collapsed": false,
    "pycharm": {
     "name": "#%% md\n"
    }
   }
  },
  {
   "cell_type": "code",
   "execution_count": 9,
   "outputs": [
    {
     "data": {
      "text/plain": "            ISIN    weight BB Comp   SP   Moody Fitch BB Comp_clean SP_clean  \\\n0   ISIN00000001  0.518515     AAA   NR  Aaa *-   AAA           AAA       NR   \n1   ISIN00000002  0.950810     AAA  AA+     Aaa   AAA           AAA      AA+   \n2   ISIN00000003  0.497176  AA+ *-  AA+     Aa2   NaN           AA+      AA+   \n3   ISIN00000004  0.648453      NR  NaN      NR  AA-u            NR      NaN   \n4   ISIN00000005  0.674328      NR  NaN      NR  AA-u            NR      NaN   \n..           ...       ...     ...  ...     ...   ...           ...      ...   \n82  ISIN00000083  2.321185      NR  NaN    Baa1   NaN            NR      NaN   \n83  ISIN00000084  1.389043      NR  NaN    Baa1   NaN            NR      NaN   \n84  ISIN00000085  2.296711    BBB+   NR    Baa1    A-          BBB+       NR   \n85  ISIN00000086  1.015105     AAA  AAA     Aaa   NaN           AAA      AAA   \n86  ISIN00000087  0.964399      AA  NaN     Aa2    AA            AA      NaN   \n\n   Moody_clean Fitch_clean worst_rtg  warf_worst_rtg  \n0          Aaa         AAA       AAA             1.0  \n1          Aaa         AAA       AA+            10.0  \n2          Aa2         NaN        AA            20.0  \n3           NR         AA-       AA-            40.0  \n4           NR         AA-       AA-            40.0  \n..         ...         ...       ...             ...  \n82        Baa1         NaN      BBB+           260.0  \n83        Baa1         NaN      BBB+           260.0  \n84        Baa1          A-      BBB+           260.0  \n85         Aaa         NaN       AAA             1.0  \n86         Aa2          AA        AA            20.0  \n\n[87 rows x 12 columns]",
      "text/html": "<div>\n<style scoped>\n    .dataframe tbody tr th:only-of-type {\n        vertical-align: middle;\n    }\n\n    .dataframe tbody tr th {\n        vertical-align: top;\n    }\n\n    .dataframe thead th {\n        text-align: right;\n    }\n</style>\n<table border=\"1\" class=\"dataframe\">\n  <thead>\n    <tr style=\"text-align: right;\">\n      <th></th>\n      <th>ISIN</th>\n      <th>weight</th>\n      <th>BB Comp</th>\n      <th>SP</th>\n      <th>Moody</th>\n      <th>Fitch</th>\n      <th>BB Comp_clean</th>\n      <th>SP_clean</th>\n      <th>Moody_clean</th>\n      <th>Fitch_clean</th>\n      <th>worst_rtg</th>\n      <th>warf_worst_rtg</th>\n    </tr>\n  </thead>\n  <tbody>\n    <tr>\n      <th>0</th>\n      <td>ISIN00000001</td>\n      <td>0.518515</td>\n      <td>AAA</td>\n      <td>NR</td>\n      <td>Aaa *-</td>\n      <td>AAA</td>\n      <td>AAA</td>\n      <td>NR</td>\n      <td>Aaa</td>\n      <td>AAA</td>\n      <td>AAA</td>\n      <td>1.0</td>\n    </tr>\n    <tr>\n      <th>1</th>\n      <td>ISIN00000002</td>\n      <td>0.950810</td>\n      <td>AAA</td>\n      <td>AA+</td>\n      <td>Aaa</td>\n      <td>AAA</td>\n      <td>AAA</td>\n      <td>AA+</td>\n      <td>Aaa</td>\n      <td>AAA</td>\n      <td>AA+</td>\n      <td>10.0</td>\n    </tr>\n    <tr>\n      <th>2</th>\n      <td>ISIN00000003</td>\n      <td>0.497176</td>\n      <td>AA+ *-</td>\n      <td>AA+</td>\n      <td>Aa2</td>\n      <td>NaN</td>\n      <td>AA+</td>\n      <td>AA+</td>\n      <td>Aa2</td>\n      <td>NaN</td>\n      <td>AA</td>\n      <td>20.0</td>\n    </tr>\n    <tr>\n      <th>3</th>\n      <td>ISIN00000004</td>\n      <td>0.648453</td>\n      <td>NR</td>\n      <td>NaN</td>\n      <td>NR</td>\n      <td>AA-u</td>\n      <td>NR</td>\n      <td>NaN</td>\n      <td>NR</td>\n      <td>AA-</td>\n      <td>AA-</td>\n      <td>40.0</td>\n    </tr>\n    <tr>\n      <th>4</th>\n      <td>ISIN00000005</td>\n      <td>0.674328</td>\n      <td>NR</td>\n      <td>NaN</td>\n      <td>NR</td>\n      <td>AA-u</td>\n      <td>NR</td>\n      <td>NaN</td>\n      <td>NR</td>\n      <td>AA-</td>\n      <td>AA-</td>\n      <td>40.0</td>\n    </tr>\n    <tr>\n      <th>...</th>\n      <td>...</td>\n      <td>...</td>\n      <td>...</td>\n      <td>...</td>\n      <td>...</td>\n      <td>...</td>\n      <td>...</td>\n      <td>...</td>\n      <td>...</td>\n      <td>...</td>\n      <td>...</td>\n      <td>...</td>\n    </tr>\n    <tr>\n      <th>82</th>\n      <td>ISIN00000083</td>\n      <td>2.321185</td>\n      <td>NR</td>\n      <td>NaN</td>\n      <td>Baa1</td>\n      <td>NaN</td>\n      <td>NR</td>\n      <td>NaN</td>\n      <td>Baa1</td>\n      <td>NaN</td>\n      <td>BBB+</td>\n      <td>260.0</td>\n    </tr>\n    <tr>\n      <th>83</th>\n      <td>ISIN00000084</td>\n      <td>1.389043</td>\n      <td>NR</td>\n      <td>NaN</td>\n      <td>Baa1</td>\n      <td>NaN</td>\n      <td>NR</td>\n      <td>NaN</td>\n      <td>Baa1</td>\n      <td>NaN</td>\n      <td>BBB+</td>\n      <td>260.0</td>\n    </tr>\n    <tr>\n      <th>84</th>\n      <td>ISIN00000085</td>\n      <td>2.296711</td>\n      <td>BBB+</td>\n      <td>NR</td>\n      <td>Baa1</td>\n      <td>A-</td>\n      <td>BBB+</td>\n      <td>NR</td>\n      <td>Baa1</td>\n      <td>A-</td>\n      <td>BBB+</td>\n      <td>260.0</td>\n    </tr>\n    <tr>\n      <th>85</th>\n      <td>ISIN00000086</td>\n      <td>1.015105</td>\n      <td>AAA</td>\n      <td>AAA</td>\n      <td>Aaa</td>\n      <td>NaN</td>\n      <td>AAA</td>\n      <td>AAA</td>\n      <td>Aaa</td>\n      <td>NaN</td>\n      <td>AAA</td>\n      <td>1.0</td>\n    </tr>\n    <tr>\n      <th>86</th>\n      <td>ISIN00000087</td>\n      <td>0.964399</td>\n      <td>AA</td>\n      <td>NaN</td>\n      <td>Aa2</td>\n      <td>AA</td>\n      <td>AA</td>\n      <td>NaN</td>\n      <td>Aa2</td>\n      <td>AA</td>\n      <td>AA</td>\n      <td>20.0</td>\n    </tr>\n  </tbody>\n</table>\n<p>87 rows × 12 columns</p>\n</div>"
     },
     "execution_count": 9,
     "metadata": {},
     "output_type": "execute_result"
    }
   ],
   "source": [
    "port_warf_df = pd.concat(\n",
    "    [\n",
    "        port_df,\n",
    "        rtg.get_warf_from_ratings(\n",
    "            ratings=port_df[\"worst_rtg\"],\n",
    "            rating_provider=\"S&P\",\n",
    "        )\n",
    "    ],\n",
    "    axis=1\n",
    ")\n",
    "\n",
    "port_warf_df"
   ],
   "metadata": {
    "collapsed": false,
    "pycharm": {
     "name": "#%%\n"
    }
   }
  },
  {
   "cell_type": "markdown",
   "source": [
    "Finally, we need to compute the WARF on a portfolio basis, which we subsequently\n",
    "convert back into a human-readable rating. For the former, we use the\n",
    "[get_weighted_average](../api_reference/#pyratings.aggregate.get_weighted_average)\n",
    "function and the\n",
    "[get_ratings_from_warf](../api_reference/#pyratings.get_ratings.get_ratings_from_warf)\n",
    "function for the latter."
   ],
   "metadata": {
    "collapsed": false,
    "pycharm": {
     "name": "#%% md\n"
    }
   }
  },
  {
   "cell_type": "code",
   "execution_count": 10,
   "outputs": [
    {
     "name": "stdout",
     "output_type": "stream",
     "text": [
      "WARF: 165.57723587360007\n"
     ]
    }
   ],
   "source": [
    "avg_warf = rtg.get_weighted_average(\n",
    "    data=port_warf_df[\"warf_worst_rtg\"], weights=port_warf_df[\"weight\"] / 100\n",
    ")\n",
    "\n",
    "print(f\"WARF: {avg_warf}\")"
   ],
   "metadata": {
    "collapsed": false,
    "pycharm": {
     "name": "#%%\n"
    }
   }
  },
  {
   "cell_type": "markdown",
   "source": [
    "Let us translate `avg_warf` into a Moody's rating."
   ],
   "metadata": {
    "collapsed": false,
    "pycharm": {
     "name": "#%% md\n"
    }
   }
  },
  {
   "cell_type": "code",
   "execution_count": 11,
   "outputs": [
    {
     "name": "stdout",
     "output_type": "stream",
     "text": [
      "Portfolio equivalent WARF rating: A3\n"
     ]
    }
   ],
   "source": [
    "avg_warf_equivalent_rating = rtg.get_ratings_from_warf(\n",
    "    warf=avg_warf, rating_provider=\"Moody\")\n",
    "\n",
    "print(f\"Portfolio equivalent WARF rating: {avg_warf_equivalent_rating}\")"
   ],
   "metadata": {
    "collapsed": false,
    "pycharm": {
     "name": "#%%\n"
    }
   }
  }
 ],
 "metadata": {
  "kernelspec": {
   "display_name": "Python 3",
   "language": "python",
   "name": "python3"
  },
  "language_info": {
   "codemirror_mode": {
    "name": "ipython",
    "version": 2
   },
   "file_extension": ".py",
   "mimetype": "text/x-python",
   "name": "python",
   "nbconvert_exporter": "python",
   "pygments_lexer": "ipython2",
   "version": "2.7.6"
  }
 },
 "nbformat": 4,
 "nbformat_minor": 0
}