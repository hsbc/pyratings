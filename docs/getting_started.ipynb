{
 "cells": [
  {
   "cell_type": "markdown",
   "source": [
    "# Getting started\n",
    "\n",
    "_pyratings_ is made for working with credit ratings in a professionally and\n",
    "efficiently manner.\n",
    "\n",
    "The following code demonstrates how to compute an average rating on a portfolio basis\n",
    "as well as the weighted average rating factor (WARF). This should give you a thorough\n",
    "introduction into the usage of _pyratings_.\n",
    "\n",
    "## Preliminary tasks\n",
    "\n",
    "As a first step and as a basis for both tasks, we are going to import a portfolio\n",
    "into a `pd.DataFrame`. We'll call it `port_df`."
   ],
   "metadata": {
    "collapsed": false,
    "pycharm": {
     "name": "#%% md\n"
    }
   }
  },
  {
   "cell_type": "code",
   "execution_count": null,
   "outputs": [],
   "source": [
    "import pandas as pd\n",
    "\n",
    "import pyratings as rtg\n",
    "\n",
    "port_df = pd.read_excel(\"portfolio.xlsx\")\n",
    "port_df.head()"
   ],
   "metadata": {
    "collapsed": false,
    "pycharm": {
     "name": "#%%\n"
    }
   }
  },
  {
   "cell_type": "markdown",
   "source": [
    "By looking at the very first rows of `port_df`, we can see that some\n",
    "ratings do have a _watch_ attached. This is marked by the `*-` suffix, which\n",
    "follows the actual rating after a blank.\n",
    "Other ratings are unsolicited. In this case, the rating is followed by the letter\n",
    "`u`.\n",
    "In order to translate ratings into scores, we first need to clean up the ratings,\n",
    "that is, we need to strip off _watches_ etc. We are going to use the\n",
    "[get_pure_ratings](../api_reference/#pyratings.clean.get_pure_ratings) function.\n",
    "This function works on strings, so we need to make sure to pass the relevant columns."
   ],
   "metadata": {
    "collapsed": false,
    "pycharm": {
     "name": "#%% md\n"
    }
   }
  },
  {
   "cell_type": "code",
   "execution_count": null,
   "outputs": [],
   "source": [
    "ratings_clean_df = rtg.get_pure_ratings(\n",
    "    port_df.loc[:, [\"BB Comp\", \"SP\", \"Moody\", \"Fitch\"]]\n",
    ")\n",
    "ratings_clean_df.head()"
   ],
   "metadata": {
    "collapsed": false,
    "pycharm": {
     "name": "#%%\n"
    }
   }
  },
  {
   "cell_type": "markdown",
   "source": [
    "As you can see, the suffix \"\\_clean\", has automatically been added to the column\n",
    "headings. Let's add these _clean_ ratings to `port_df` by simple concatenation."
   ],
   "metadata": {
    "collapsed": false,
    "pycharm": {
     "name": "#%% md\n"
    }
   }
  },
  {
   "cell_type": "code",
   "execution_count": null,
   "outputs": [],
   "source": [
    "port_df = pd.concat([port_df, ratings_clean_df], axis=1)\n",
    "port_df.head()"
   ],
   "metadata": {
    "collapsed": false,
    "pycharm": {
     "name": "#%%\n"
    }
   }
  },
  {
   "cell_type": "markdown",
   "source": [
    "Now, in order to compute an average rating or WARF, respectively, we need to\n",
    "consolidate the ratings on a\n",
    "row basis, i.e. we need to assign one and only one concrete rating to an individual\n",
    "security.<br>\n",
    "There are several solutions to this problem. Oftentimes, you may want to compute the\n",
    "__worst__ rating among all rating agencies. It is also fairly common to calculate the\n",
    "__second best__ rating.<br>\n",
    "_pyratings_ offers a number of functions in order to accomplish this task, such as\n",
    "\n",
    "* [get_best_ratings](../api_reference/#pyratings.consolidate.get_best_ratings)\n",
    "* [get_second_best_ratings](../api_reference/#pyratings.consolidate.get_second_best_ratings)\n",
    "* [get_worst_ratings](../api_reference/#pyratings.consolidate.get_worst_ratings)\n",
    "\n",
    "Let's compute the __worst ratings__ and directly concatenate the newly computed\n",
    "column to our existing `port_df` in one batch. _pyratings_ automatically names the\n",
    "new column \"worst_rtg\"."
   ],
   "metadata": {
    "collapsed": false,
    "pycharm": {
     "name": "#%% md\n"
    }
   }
  },
  {
   "cell_type": "code",
   "execution_count": null,
   "outputs": [],
   "source": [
    "port_df = pd.concat(\n",
    "    [\n",
    "        port_df,\n",
    "        rtg.get_worst_ratings(\n",
    "            port_df[[\"BB Comp_clean\", \"SP_clean\", \"Moody_clean\", \"Fitch_clean\"]],\n",
    "            rating_provider_input=[\"Bloomberg\", \"S&P\", \"Moody's\", \"Fitch\"],\n",
    "            rating_provider_output=\"S&P\"\n",
    "        )\n",
    "    ],\n",
    "    axis=1,\n",
    ")\n",
    "\n",
    "port_df.head()"
   ],
   "metadata": {
    "collapsed": false,
    "pycharm": {
     "name": "#%%\n"
    }
   }
  },
  {
   "cell_type": "markdown",
   "source": [
    "## Computing the average rating of a portfolio\n",
    "\n",
    "The column <i>worst_rtg</i> will be used in order to translate the ratings into scores\n",
    "according to the following table.\n",
    "\n",
    "| Moody’s |  S&P | Fitch | Bloomberg | DBRS |  ICE | Score |\n",
    "|:-------:|:----:|:-----:|:---------:|:----:|:----:|------:|\n",
    "|   Aaa   |  AAA |  AAA  |    AAA    |  AAA |  AAA |     1 |\n",
    "|   Aa1   |  AA+ |  AA+  |    AA+    |  AAH |  AA+ |     2 |\n",
    "|   Aa2   |  AA  |   AA  |     AA    |  AA  |  AA  |     3 |\n",
    "|   Aa3   |  AA- |  AA-  |    AA-    |  AAL |  AA- |     4 |\n",
    "|    A1   |  A+  |   A+  |     A+    |  AH  |  A+  |     5 |\n",
    "|    A2   |   A  |   A   |     A     |   A  |   A  |     6 |\n",
    "|    A3   |  A-  |   A-  |     A-    |  AL  |  A-  |     7 |\n",
    "|   Baa1  | BBB+ |  BBB+ |    BBB+   | BBBH | BBB+ |     8 |\n",
    "|   Baa2  |  BBB |  BBB  |    BBB    |  BBB |  BBB |     9 |\n",
    "|   Baa3  | BBB- |  BBB- |    BBB-   | BBBL | BBB- |    10 |\n",
    "|   Ba1   |  BB+ |  BB+  |    BB+    |  BBH |  BB+ |    11 |\n",
    "|   Ba2   |  BB  |   BB  |     BB    |  BB  |  BB  |    12 |\n",
    "|   Ba3   |  BB- |  BB-  |    BB-    |  BBL |  BB- |    13 |\n",
    "|    B1   |  B+  |   B+  |     B+    |  BH  |  B+  |    14 |\n",
    "|    B2   |   B  |   B   |     B     |   B  |   B  |    15 |\n",
    "|    B3   |  B-  |   B-  |     B-    |  BL  |  B-  |    16 |\n",
    "|   Caa1  | CCC+ |  CCC+ |    CCC+   | CCCH | CCC+ |    17 |\n",
    "|   Caa2  |  CCC |  CCC  |    CCC    |  CCC |  CCC |    18 |\n",
    "|   Caa3  | CCC- |  CCC- |    CCC-   | CCCL | CCC- |    19 |\n",
    "|    Ca   |  CC  |   CC  |     CC    |  CC  |  CC  |    20 |\n",
    "|    C    |   C  |   C   |     C     |   C  |   C  |    21 |\n",
    "|    D    |   D  |   D   |    DDD    |   D  |   D  |    22 |\n",
    "|    SD   |  SD  |   SD  |    ---    |  --- |  --- |    22 |\n",
    "\n",
    "The function [get_scores_from_ratings](../api_reference/#pyratings.get_scores.get_scores_from_ratings)\n",
    "will solve this issue. The function needs a rating provider (here: \"S&P\") in order to\n",
    " select an appropriate translation dictionary."
   ],
   "metadata": {
    "collapsed": false,
    "pycharm": {
     "name": "#%% md\n"
    }
   }
  },
  {
   "cell_type": "code",
   "execution_count": null,
   "outputs": [],
   "source": [
    "port_scores_df = pd.concat(\n",
    "    [\n",
    "        port_df,\n",
    "        rtg.get_scores_from_ratings(\n",
    "            ratings=port_df[\"worst_rtg\"],\n",
    "            rating_provider=\"S&P\")\n",
    "    ],\n",
    "    axis=1\n",
    ")\n",
    "\n",
    "port_scores_df"
   ],
   "metadata": {
    "collapsed": false,
    "pycharm": {
     "name": "#%%\n"
    }
   }
  },
  {
   "cell_type": "markdown",
   "source": [
    "Finally, we need to compute a weighted average rating score, which we subsequently\n",
    "convert back into a human-readable rating. For the former, we use the\n",
    "[get_weighted_average](../api_reference/#pyratings.aggregate.get_weighted_average)\n",
    "function and for the latter the\n",
    "[get_ratings_from_scores](../api_reference/#pyratings.get_ratings.get_ratings_from_scores)\n",
    "function."
   ],
   "metadata": {
    "collapsed": false,
    "pycharm": {
     "name": "#%% md\n"
    }
   }
  },
  {
   "cell_type": "code",
   "execution_count": null,
   "outputs": [],
   "source": [
    "avg_rtg_score = rtg.get_weighted_average(\n",
    "    data=port_scores_df[\"rtg_score_SP\"],\n",
    "    weights=port_scores_df[\"weight\"] / 100,\n",
    ")\n",
    "print(f\"Average rating score: {avg_rtg_score}\")"
   ],
   "metadata": {
    "collapsed": false,
    "pycharm": {
     "name": "#%%\n"
    }
   }
  },
  {
   "cell_type": "code",
   "execution_count": null,
   "outputs": [],
   "source": [
    "avg_rtg = rtg.get_ratings_from_scores(\n",
    "    rating_scores=avg_rtg_score, rating_provider=\"S&P\")\n",
    "print(f\"Average portfolio rating: {avg_rtg}\")"
   ],
   "metadata": {
    "collapsed": false,
    "pycharm": {
     "name": "#%%\n"
    }
   }
  },
  {
   "cell_type": "markdown",
   "source": [
    "## Computing portfolio WARF\n",
    "\n",
    "To compute the portfolio's WARF, we are again going to use __worst ratings__."
   ],
   "metadata": {
    "collapsed": false,
    "pycharm": {
     "name": "#%% md\n"
    }
   }
  },
  {
   "cell_type": "code",
   "execution_count": null,
   "outputs": [],
   "source": [
    "port_df.head()"
   ],
   "metadata": {
    "collapsed": false,
    "pycharm": {
     "name": "#%%\n"
    }
   }
  },
  {
   "cell_type": "markdown",
   "source": [
    "The column <i>worst_rtg</i> will be used in order to translate the ratings into WARF\n",
    "according to the following table.\n",
    "\n",
    "| Moody’s |  S&P | Fitch |  ICE | DBRS | Bloomberg | Score |  WARF | MinWARF* | MaxWARF* |\n",
    "|:-------:|:----:|:-----:|:----:|:----:|:---------:|------:|------:|---------:|:--------:|\n",
    "|   Aaa   |  AAA |  AAA  |  AAA |  AAA |    AAA    |     1 |     1 |        1 |        5 |\n",
    "|   Aa1   |  AA+ |  AA+  |  AA+ |  AAH |    AA+    |     2 |    10 |        5 |       15 |\n",
    "|   Aa2   |  AA  |   AA  |  AA  |  AA  |     AA    |     3 |    20 |       15 |       30 |\n",
    "|   Aa3   |  AA- |  AA-  |  AA- |  AAL |    AA-    |     4 |    40 |       30 |       55 |\n",
    "|    A1   |  A+  |   A+  |  A+  |  AH  |     A+    |     5 |    70 |       55 |       95 |\n",
    "|    A2   |   A  |   A   |   A  |   A  |     A     |     6 |   120 |       95 |      150 |\n",
    "|    A3   |  A-  |   A-  |  A-  |  AL  |     A-    |     7 |   180 |      150 |      220 |\n",
    "|   Baa1  | BBB+ |  BBB+ | BBB+ | BBBH |    BBB+   |     8 |   260 |      220 |      310 |\n",
    "|   Baa2  |  BBB |  BBB  |  BBB |  BBB |    BBB    |     9 |   360 |      310 |      485 |\n",
    "|   Baa3  | BBB- |  BBB- | BBB- | BBBL |    BBB-   |    10 |   610 |      485 |      775 |\n",
    "|   Ba1   |  BB+ |  BB+  |  BB+ |  BBH |    BB+    |    11 |   940 |      775 |     1145 |\n",
    "|   Ba2   |  BB  |   BB  |  BB  |  BB  |     BB    |    12 |  1350 |     1145 |     1558 |\n",
    "|   Ba3   |  BB- |  BB-  |  BB- |  BBL |    BB-    |    13 |  1766 |     1558 |     1993 |\n",
    "|    B1   |  B+  |   B+  |  B+  |  BH  |     B+    |    14 |  2220 |     1993 |     2470 |\n",
    "|    B2   |   B  |   B   |   B  |   B  |     B     |    15 |  2720 |     2470 |     3105 |\n",
    "|    B3   |  B-  |   B-  |  B-  |  BL  |     B-    |    16 |  3490 |     3105 |     4130 |\n",
    "|   Caa1  | CCC+ |  CCC+ | CCC+ | CCCH |    CCC+   |    17 |  4770 |     4130 |     5635 |\n",
    "|   Caa2  |  CCC |  CCC  |  CCC |  CCC |    CCC    |    18 |  6500 |     5635 |     7285 |\n",
    "|   Caa3  | CCC- |  CCC- | CCC- | CCCL |    CCC-   |    19 |  8070 |     7285 |     9034 |\n",
    "|    Ca   |  CC  |   CC  |  CC  |  CC  |     CC    |    20 |  9998 |     9034 |   9998.5 |\n",
    "|    C    |   C  |   C   |   C  |   C  |     C     |    21 |  9999 |   9998.5 |   9999.5 |\n",
    "|    D    |   D  |   D   |   D  |   D  |    DDD    |    22 | 10000 |   9999.5 |    10000 |\n",
    "\n",
    "`MinWARF` is inclusive, while `MaxWARF` is exclusive.\n",
    "\n",
    "The function [get_warf_from_ratings](../api_reference/#pyratings.get_warf.get_warf_from_ratings)\n",
    "will solve this issue."
   ],
   "metadata": {
    "collapsed": false,
    "pycharm": {
     "name": "#%% md\n"
    }
   }
  },
  {
   "cell_type": "code",
   "execution_count": null,
   "outputs": [],
   "source": [
    "port_warf_df = pd.concat(\n",
    "    [\n",
    "        port_df,\n",
    "        rtg.get_warf_from_ratings(\n",
    "            ratings=port_df[\"worst_rtg\"],\n",
    "            rating_provider=\"S&P\",\n",
    "        )\n",
    "    ],\n",
    "    axis=1\n",
    ")\n",
    "\n",
    "port_warf_df"
   ],
   "metadata": {
    "collapsed": false,
    "pycharm": {
     "name": "#%%\n"
    }
   }
  },
  {
   "cell_type": "markdown",
   "source": [
    "Finally, we need to compute the WARF on a portfolio basis, which we subsequently\n",
    "convert back into a human-readable rating. For the former, we use the\n",
    "[get_weighted_average](../api_reference/#pyratings.aggregate.get_weighted_average)\n",
    "function and the\n",
    "[get_ratings_from_warf](../api_reference/#pyratings.get_ratings.get_ratings_from_warf)\n",
    "function for the latter."
   ],
   "metadata": {
    "collapsed": false,
    "pycharm": {
     "name": "#%% md\n"
    }
   }
  },
  {
   "cell_type": "code",
   "execution_count": null,
   "outputs": [],
   "source": [
    "avg_warf = rtg.get_weighted_average(\n",
    "    data=port_warf_df[\"warf\"], weights=port_warf_df[\"weight\"] / 100\n",
    ")\n",
    "\n",
    "print(f\"WARF: {avg_warf}\")"
   ],
   "metadata": {
    "collapsed": false,
    "pycharm": {
     "name": "#%%\n"
    }
   }
  },
  {
   "cell_type": "markdown",
   "source": [
    "Let us translate `avg_warf` into a Moody's rating."
   ],
   "metadata": {
    "collapsed": false,
    "pycharm": {
     "name": "#%% md\n"
    }
   }
  },
  {
   "cell_type": "code",
   "execution_count": null,
   "outputs": [],
   "source": [
    "avg_warf_equivalent_rating = rtg.get_ratings_from_warf(\n",
    "    warf=avg_warf, rating_provider=\"Moody\")\n",
    "\n",
    "print(f\"Portfolio equivalent WARF rating: {avg_warf_equivalent_rating}\")"
   ],
   "metadata": {
    "collapsed": false,
    "pycharm": {
     "name": "#%%\n"
    }
   }
  }
 ],
 "metadata": {
  "kernelspec": {
   "display_name": "Python 3",
   "language": "python",
   "name": "python3"
  },
  "language_info": {
   "codemirror_mode": {
    "name": "ipython",
    "version": 2
   },
   "file_extension": ".py",
   "mimetype": "text/x-python",
   "name": "python",
   "nbconvert_exporter": "python",
   "pygments_lexer": "ipython2",
   "version": "2.7.6"
  }
 },
 "nbformat": 4,
 "nbformat_minor": 0
}