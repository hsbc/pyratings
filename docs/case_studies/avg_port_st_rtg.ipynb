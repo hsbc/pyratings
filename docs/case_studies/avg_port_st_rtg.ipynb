{
 "cells": [
  {
   "cell_type": "markdown",
   "metadata": {
    "collapsed": false
   },
   "source": [
    "# Compute portfolio average short-term rating\n",
    "The following case-study demonstrates how to compute the average short-term rating of\n",
    "your portfolio.\n",
    "Before we start looking at a concrete example, let's recap the steps that are\n",
    "necessary to compute the average short-term portfolio rating.\n",
    "\n",
    "Translating short-term ratings into numerical rating scores and vice versa isn't as\n",
    "straightforward as with long-term ratings (see\n",
    "[Short-term ratings](/../short_term_ratings/)).\n",
    "\n",
    "The below chart shows the steps to compute the average portfolio rating for a\n",
    "two-security portfolio.\n",
    "\n",
    "![\"Two-security example using average equivalent value (AEV)\"](/../media/flow_chart_example_AEV.png \"Two-security example using average equivalent value (AEV)\")\n",
    "\n",
    "- Step 1:<br>\n",
    "  Translate all short-term ratings from available rating agencies into an average\n",
    "  equivalent long-term rating score or into a so-called **average equivalent value\n",
    "  (AEV)**.\n",
    "- Step 2:<br>\n",
    "  Consolidate all ratings on a security basis into one equivalent long-term rating\n",
    "  score.<br>\n",
    "  For example, you could decide to choose the worst rating (read: highest\n",
    "  numerical score) among all rating agencies.<br>\n",
    "  As a result, you'll end up with the worst (i.e. highest) AEV per security.\n",
    "- Step 3:<br>\n",
    "  Compute the weighted AEV for the portfolio. That is, multiply an individual\n",
    "  security's weight with its worst AEV. You'll end up with this security's\n",
    "  contribution to the portfolio AEV.<br>\n",
    "  Finally, sum up the individual securities' contributions.<br>\n",
    "  Essentially, this is simply computing the sum-product of the weights and the worst\n",
    "  AEVs.\n",
    "- Step 4:<br>\n",
    "  Translate the portfolio AEV back into a human-readable short-term rating, while\n",
    "  using the agency's rating scale of your choice.\n",
    "\n",
    "\n",
    "## Preliminary tasks\n",
    "As a first step, we are going to import a portfolio into a `pd.DataFrame`. We'll call\n",
    "it `port_df`. This dataframe comprises a number of securities with respective weights\n",
    " and short-term ratings."
   ]
  },
  {
   "cell_type": "code",
   "execution_count": null,
   "metadata": {
    "collapsed": false
   },
   "outputs": [],
   "source": [
    "import pandas as pd\n",
    "\n",
    "import pyratings as rtg\n",
    "\n",
    "port_df = pd.read_excel(\n",
    "    \"portfolio.xlsx\",\n",
    "    sheet_name=\"short_term_ratings\",\n",
    ")\n",
    "\n",
    "port_df"
   ]
  },
  {
   "cell_type": "markdown",
   "source": [
    "## Clean ratings\n",
    "If you take a closer look at row 5 and 13, you see that there are two ratings from\n",
    "Moody's which are based on public information (indicated by \"(P)\").\n",
    "We need to get rid of this prefix, otherwise the rating can't be correctly identified\n",
    " by **pyratings**."
   ],
   "metadata": {
    "collapsed": false
   }
  },
  {
   "cell_type": "code",
   "execution_count": null,
   "outputs": [],
   "source": [
    "port_df_clean = rtg.get_pure_ratings(\n",
    "    ratings=port_df.loc[:, [\"Moody\", \"SP\", \"Fitch\", \"DBRS\"]]\n",
    ")\n",
    "port_df_clean"
   ],
   "metadata": {
    "collapsed": false
   }
  },
  {
   "cell_type": "markdown",
   "source": [
    "## Consolidate ratings (step 1 and 2)\n",
    "Next, we are consolidating the clean ratings. We take the conservative approach and\n",
    "identify the worst numerical rating score assigned to every individual security.\n",
    "\n",
    "We can use the\n",
    "[``get_worst_scores``](../../api_reference/#pyratings.consolidate.get_worst_scores)\n",
    "function. **pyratings** will automatically convert the short-term ratings into AEVs\n",
    "(step 1) and identify the hightest number (read: worst rating score) (step 2)."
   ],
   "metadata": {
    "collapsed": false
   }
  },
  {
   "cell_type": "code",
   "execution_count": null,
   "outputs": [],
   "source": [
    "port_worst_scores_df = rtg.get_worst_scores(\n",
    "    ratings=port_df_clean,\n",
    "    rating_provider_input=[\"Moody\", \"SP\", \"Fitch\", \"DBRS\"],\n",
    "    tenor=\"short-term\",\n",
    ")\n",
    "\n",
    "port_worst_scores_df = pd.concat(\n",
    "    [\n",
    "        port_df.loc[:, [\"ISIN\", \"weight\"]],\n",
    "        port_worst_scores_df,\n",
    "    ],\n",
    "    axis=1\n",
    ")\n",
    "\n",
    "port_worst_scores_df"
   ],
   "metadata": {
    "collapsed": false
   }
  },
  {
   "cell_type": "markdown",
   "metadata": {
    "collapsed": false
   },
   "source": [
    "## Compute the weighted AEV (step 3)\n",
    "Now, we need to compute a weighted average rating score. We use the\n",
    "[``get_weighted_average``](../../api_reference/#pyratings.aggregate.get_weighted_average)\n",
    "function."
   ]
  },
  {
   "cell_type": "code",
   "execution_count": null,
   "metadata": {
    "collapsed": false
   },
   "outputs": [],
   "source": [
    "avg_rtg_score = rtg.get_weighted_average(\n",
    "    data=port_worst_scores_df[\"worst_scores\"],\n",
    "    weights=port_worst_scores_df[\"weight\"] / 100,\n",
    ")\n",
    "\n",
    "print(f\"Average rating score: {avg_rtg_score:.2f}\")\n",
    "print(f\"Average rating score (rounded): {round(avg_rtg_score):.2f}\")"
   ]
  },
  {
   "cell_type": "markdown",
   "source": [
    "## Going back to human-readable ratings (step 4)\n",
    "Translating rating scores into short-term ratings is somewhat different compared to\n",
    "long-term ratings\n",
    "(see [Short-term ratings](../../short_term_ratings/#theres-one-more-catch)).\n",
    "We need to decide which strategy we will use: ``best``, ``base``, or ``worst``.\n",
    "Choosing the strategy influences the outcome. The rounded rating score is 7.\n",
    "\n",
    "We are going to use the\n",
    "[``get_ratings_from_scores``](../../api_reference/#pyratings.get_ratings.get_ratings_from_scores)\n",
    "function.\n",
    "The input parameter ``short_term_strategy`` defines the strategy, which will be used\n",
    "to translate AEVs back into short-term ratings.\n",
    "\n",
    "The following table describes how this rating score will be translated into a\n",
    "short-term rating depending on the strategy.\n",
    "\n",
    "![Translation short-term ratings into long-term rating scores with all strategies](/.\n",
    "./media/translation_st_ratings_lt_rating_scores_all_strats.png)"
   ],
   "metadata": {
    "collapsed": false
   }
  },
  {
   "cell_type": "code",
   "execution_count": null,
   "metadata": {
    "collapsed": false
   },
   "outputs": [],
   "source": [
    "avg_rtg_best = rtg.get_ratings_from_scores(\n",
    "    rating_scores=avg_rtg_score,\n",
    "    rating_provider=\"S&P\",\n",
    "    tenor=\"short-term\",\n",
    "    short_term_strategy=\"best\",\n",
    ")\n",
    "\n",
    "avg_rtg_base = rtg.get_ratings_from_scores(\n",
    "    rating_scores=avg_rtg_score,\n",
    "    rating_provider=\"S&P\",\n",
    "    tenor=\"short-term\",\n",
    "    short_term_strategy=\"base\",\n",
    ")\n",
    "\n",
    "avg_rtg_worst = rtg.get_ratings_from_scores(\n",
    "    rating_scores=avg_rtg_score,\n",
    "    rating_provider=\"S&P\",\n",
    "    tenor=\"short-term\",\n",
    "    short_term_strategy=\"worst\",\n",
    ")\n",
    "\n",
    "print(f\"Average portfolio rating (strategy: 'best'): {avg_rtg_best}\")\n",
    "print(f\"Average portfolio rating (strategy: 'base'): {avg_rtg_base}\")\n",
    "print(f\"Average portfolio rating (strategy: 'worst'): {avg_rtg_worst}\")"
   ]
  },
  {
   "cell_type": "markdown",
   "source": [
    "There you go. The average rating of the portfolio is either A-1 (``best``) or A-2\n",
    "(``base`` and ``worst``)."
   ],
   "metadata": {
    "collapsed": false
   }
  }
 ],
 "metadata": {
  "kernelspec": {
   "display_name": "Python 3.10.8 ('.venv': venv)",
   "language": "python",
   "name": "python3"
  },
  "language_info": {
   "codemirror_mode": {
    "name": "ipython",
    "version": 2
   },
   "file_extension": ".py",
   "mimetype": "text/x-python",
   "name": "python",
   "nbconvert_exporter": "python",
   "pygments_lexer": "ipython2",
   "version": "3.10.8"
  },
  "vscode": {
   "interpreter": {
    "hash": "1eb5953f7418e8649defe61e456cd2c36f8d40cdcc64df0ff7d731451339d149"
   }
  }
 },
 "nbformat": 4,
 "nbformat_minor": 0
}
