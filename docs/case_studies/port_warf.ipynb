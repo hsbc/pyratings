{
 "cells": [
  {
   "cell_type": "markdown",
   "source": [
    "# Compute portfolio WARF\n",
    "\n",
    "The following case-study demonstrates how to compute the weighted average rating\n",
    "factor for a portfolio.\n",
    "\n",
    "## Preliminary tasks\n",
    "As a first step, we are going to import a portfolio into a `pd.DataFrame`. We'll call\n",
    "it `port_df`. This dataframe comprises a number of securities with respective weights\n",
    " and ratings."
   ],
   "metadata": {
    "collapsed": false
   }
  },
  {
   "cell_type": "code",
   "execution_count": null,
   "metadata": {
    "collapsed": false
   },
   "outputs": [],
   "source": [
    "import pandas as pd\n",
    "\n",
    "import pyratings as rtg\n",
    "\n",
    "port_df = pd.read_excel(\"portfolio.xlsx\", sheet_name=\"long_term_ratings_worst\")\n",
    "port_df.head()"
   ]
  },
  {
   "cell_type": "markdown",
   "metadata": {
    "collapsed": false
   },
   "source": [
    "## Computing portfolio WARF\n",
    "The column <i>worst_rtg</i> will be used in order to translate the ratings into WARFs\n",
    "according to the following table.\n",
    "\n",
    "![Long-term rating scale WARF](/../media/long_term_rating_scales_warf.png)\n",
    "\n",
    "We will use\n",
    "[``get_warf_from_ratings``](../../api_reference/#pyratings.get_warf.get_warf_from_ratings)\n",
    "to translate the human-readable ratings into WARFs. The function needs a\n",
    "rating provider (here: \"S&P\") in order to select an appropriate translation dictionary."
   ]
  },
  {
   "cell_type": "code",
   "execution_count": null,
   "metadata": {
    "collapsed": false
   },
   "outputs": [],
   "source": [
    "port_warf_df = pd.concat(\n",
    "    [\n",
    "        port_df,\n",
    "        rtg.get_warf_from_ratings(\n",
    "            ratings=port_df[\"worst_rtg\"],\n",
    "            rating_provider=\"S&P\",\n",
    "        )\n",
    "    ],\n",
    "    axis=1\n",
    ")\n",
    "\n",
    "port_warf_df"
   ]
  },
  {
   "cell_type": "markdown",
   "metadata": {
    "collapsed": false
   },
   "source": [
    "Finally, we need to compute the WARF on a portfolio basis, which we subsequently\n",
    "convert back into a human-readable rating. For the former, we use the\n",
    "[``get_weighted_average``](../../api_reference/#pyratings.aggregate.get_weighted_average)\n",
    "function and the\n",
    "[``get_ratings_from_warf``](../../api_reference/#pyratings.get_ratings.get_ratings_from_warf)\n",
    "function for the latter."
   ]
  },
  {
   "cell_type": "code",
   "execution_count": null,
   "metadata": {
    "collapsed": false
   },
   "outputs": [],
   "source": [
    "avg_warf = rtg.get_weighted_average(\n",
    "    data=port_warf_df[\"warf_worst_rtg\"],\n",
    "    weights=port_warf_df[\"weight\"] / 100,\n",
    ")\n",
    "\n",
    "print(f\"WARF: {avg_warf:.2f}\")"
   ]
  },
  {
   "cell_type": "code",
   "execution_count": null,
   "outputs": [],
   "source": [
    "avg_warf_equivalent_rating = rtg.get_ratings_from_warf(\n",
    "    warf=avg_warf,\n",
    "    rating_provider=\"SP\",\n",
    ")\n",
    "\n",
    "print(f\"Portfolio equivalent WARF rating: {avg_warf_equivalent_rating}\")"
   ],
   "metadata": {
    "collapsed": false
   }
  },
  {
   "cell_type": "markdown",
   "metadata": {
    "collapsed": false
   },
   "source": [
    "There you go. The portfolio WARF is A-.\n",
    "\n",
    "Do you prefer to show the rating using Moody’s rating scale? — It’s as simple as\n",
    "changing the ``rating_provider`` argument to “Moody”."
   ]
  },
  {
   "cell_type": "code",
   "execution_count": null,
   "metadata": {
    "collapsed": false
   },
   "outputs": [],
   "source": [
    "avg_warf_equivalent_rating = rtg.get_ratings_from_warf(\n",
    "    warf=avg_warf,\n",
    "    rating_provider=\"Moody\"\n",
    ")\n",
    "\n",
    "print(f\"Portfolio equivalent WARF rating: {avg_warf_equivalent_rating}\")"
   ]
  },
  {
   "cell_type": "markdown",
   "source": [
    "## Compute the WARF buffer\n",
    "The WARF buffer is the distance from the current WARF to the next ``maxWARF`` level. It\n",
    "determines the room until a further rating downgrade takes place.\n",
    "\n",
    "Earlier, we determined that the portfolio WARF is equal to 165.58. Let's\n",
    "compute the WARF buffer.\n",
    "\n",
    "The corresponding ``maxWARF`` value is 220. The buffer is then equal to 220 - 165.58\n",
    "= 54.42.\n",
    "\n",
    "**pyratings** provides the function\n",
    "[``get_warf_buffer``](../../api_reference/#pyratings.warf.get_warf_buffer) to help\n",
    "you compute the WARF buffer.\n"
   ],
   "metadata": {
    "collapsed": false
   }
  },
  {
   "cell_type": "code",
   "execution_count": null,
   "outputs": [],
   "source": [
    "print(f\"WARF buffer: {rtg.get_warf_buffer(avg_warf):.2f}\")"
   ],
   "metadata": {
    "collapsed": false
   }
  }
 ],
 "metadata": {
  "kernelspec": {
   "display_name": "Python 3.10.8 ('.venv': venv)",
   "language": "python",
   "name": "python3"
  },
  "language_info": {
   "codemirror_mode": {
    "name": "ipython",
    "version": 2
   },
   "file_extension": ".py",
   "mimetype": "text/x-python",
   "name": "python",
   "nbconvert_exporter": "python",
   "pygments_lexer": "ipython2",
   "version": "3.10.8"
  },
  "vscode": {
   "interpreter": {
    "hash": "1eb5953f7418e8649defe61e456cd2c36f8d40cdcc64df0ff7d731451339d149"
   }
  }
 },
 "nbformat": 4,
 "nbformat_minor": 0
}
