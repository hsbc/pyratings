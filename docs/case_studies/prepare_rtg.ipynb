{
 "cells": [
  {
   "cell_type": "markdown",
   "metadata": {
    "collapsed": false
   },
   "source": [
    "# Prepare your ratings data\n",
    "\n",
    "The following case-study demonstrates how to prepare your ratings for further\n",
    "processing.\n",
    "\n",
    "## Preliminary tasks\n",
    "As a first step, we are going to import a portfolio into a `pd.DataFrame`. We'll call\n",
    "it `port_df`. This dataframe comprises a number of securities with respective weights\n",
    " and ratings from different rating agencies."
   ]
  },
  {
   "cell_type": "code",
   "execution_count": null,
   "metadata": {
    "collapsed": false
   },
   "outputs": [],
   "source": [
    "import pandas as pd\n",
    "\n",
    "import pyratings as rtg\n",
    "\n",
    "port_df = pd.read_excel(\"portfolio.xlsx\")\n",
    "port_df.head()"
   ]
  },
  {
   "cell_type": "markdown",
   "metadata": {
    "collapsed": false
   },
   "source": [
    "## Clean your ratings\n",
    "By looking at the very first rows of `port_df`, we can see that some ratings do have a\n",
    "_watch_ attached. This is marked by the `*-` suffix, which follows the actual rating\n",
    "after a blank. Other ratings are unsolicited. In this case, the rating is followed by\n",
    "the letter `u`.\n",
    "\n",
    "Before we can use these ratings for further computations, we need to\n",
    "[clean](../../user_guide/cleansing/) the ratings and get rid of everything that is not\n",
    "part of the actual rating. That is, we need to strip off _watches_ etc.\n",
    "\n",
    "We are going to use the\n",
    "[get_pure_ratings](../../api_reference/#pyratings.clean.get_pure_ratings) function.\n",
    "This function works on strings, so we need to make sure to pass the relevant columns.\n"
   ]
  },
  {
   "cell_type": "code",
   "execution_count": null,
   "metadata": {
    "collapsed": false
   },
   "outputs": [],
   "source": [
    "ratings_clean_df = rtg.get_pure_ratings(\n",
    "    port_df.loc[:, [\"BB Comp\", \"SP\", \"Moody\", \"Fitch\"]]\n",
    ")\n",
    "ratings_clean_df.head()"
   ]
  },
  {
   "cell_type": "markdown",
   "metadata": {
    "collapsed": false
   },
   "source": [
    "As you can see, the suffix \"\\_clean\" has automatically been added to the column\n",
    "headings. Let's add these _clean_ ratings to `port_df` by simple concatenation."
   ]
  },
  {
   "cell_type": "code",
   "execution_count": null,
   "metadata": {
    "collapsed": false
   },
   "outputs": [],
   "source": [
    "port_df = pd.concat([port_df, ratings_clean_df], axis=1)\n",
    "port_df.head()"
   ]
  },
  {
   "cell_type": "markdown",
   "metadata": {
    "collapsed": false
   },
   "source": [
    "## Consolidate your ratings\n",
    "The natural next step is to [consolidate](../../user_guide/consolidate/) the ratings;\n",
    "i.e. we need to assign one and only one concrete rating to any individual security.\n",
    "\n",
    "Let's compute the _worst ratings_ and directly concatenate the newly computed\n",
    "column to our existing `port_df` in one batch. **pyratings** automatically names the\n",
    "new column \"worst_rtg\".\n",
    "\n",
    "We are going to use\n",
    "[``get_worst_ratings``](../../api_reference/#pyratings.consolidate.get_worst_ratings)\n",
    " and use S&P's rating scale to display the data."
   ]
  },
  {
   "cell_type": "code",
   "execution_count": null,
   "metadata": {
    "collapsed": false
   },
   "outputs": [],
   "source": [
    "port_df = pd.concat(\n",
    "    [\n",
    "        port_df,\n",
    "        rtg.get_worst_ratings(\n",
    "            ratings=ratings_clean_df,\n",
    "            rating_provider_input=[\"Bloomberg\", \"S&P\", \"Moody's\", \"Fitch\"],\n",
    "            rating_provider_output=\"S&P\"\n",
    "        )\n",
    "    ],\n",
    "    axis=1,\n",
    ")\n",
    "\n",
    "port_df.head()"
   ]
  },
  {
   "cell_type": "markdown",
   "source": [
    "There you are. You have all your securities and only one concrete rating attached to\n",
    "each one (in this case the __worst rating__)."
   ],
   "metadata": {
    "collapsed": false
   }
  },
  {
   "cell_type": "code",
   "execution_count": null,
   "outputs": [],
   "source": [
    "port_df.loc[:, [\"ISIN\", \"weight\", \"worst_rtg\"]].head()"
   ],
   "metadata": {
    "collapsed": false
   }
  }
 ],
 "metadata": {
  "kernelspec": {
   "display_name": "Python 3.10.8 ('.venv': venv)",
   "language": "python",
   "name": "python3"
  },
  "language_info": {
   "codemirror_mode": {
    "name": "ipython",
    "version": 2
   },
   "file_extension": ".py",
   "mimetype": "text/x-python",
   "name": "python",
   "nbconvert_exporter": "python",
   "pygments_lexer": "ipython2",
   "version": "3.10.8"
  },
  "vscode": {
   "interpreter": {
    "hash": "1eb5953f7418e8649defe61e456cd2c36f8d40cdcc64df0ff7d731451339d149"
   }
  }
 },
 "nbformat": 4,
 "nbformat_minor": 0
}
