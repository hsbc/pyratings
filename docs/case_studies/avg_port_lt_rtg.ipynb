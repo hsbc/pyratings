{
 "cells": [
  {
   "cell_type": "markdown",
   "metadata": {
    "collapsed": false
   },
   "source": [
    "# Compute portfolio average long-term rating\n",
    "\n",
    " The following case-study demonstrates how to compute the average long-term rating of\n",
    " your portfolio.\n",
    "\n",
    "## Preliminary tasks\n",
    "As a first step, we are going to import a portfolio into a `pd.DataFrame`. We'll call\n",
    "it `port_df`. This dataframe comprises a number of securities with respective weights\n",
    " and ratings."
   ]
  },
  {
   "cell_type": "code",
   "execution_count": null,
   "metadata": {
    "collapsed": false
   },
   "outputs": [],
   "source": [
    "import pandas as pd\n",
    "\n",
    "import pyratings as rtg\n",
    "\n",
    "port_df = pd.read_excel(\"portfolio.xlsx\", sheet_name=\"long_term_ratings_worst\")\n",
    "port_df.head()"
   ]
  },
  {
   "cell_type": "markdown",
   "metadata": {
    "collapsed": false
   },
   "source": [
    "## Translating ratings into numerical scores\n",
    "The column <i>worst_rtg</i> will be used in order to translate the ratings into\n",
    "scores according to the following table.\n",
    "\n",
    "![Long-term rating scale](../../media/long_term_rating_scales.png)\n",
    "\n",
    "We will use\n",
    "[``get_scores_from_ratings``](../../api_reference/#pyratings.get_scores.get_scores_from_ratings)\n",
    "to translate the human-readable ratings into numerical scores. The function needs a\n",
    "rating provider (here: \"S&P\") in order to select an appropriate translation dictionary."
   ]
  },
  {
   "cell_type": "code",
   "execution_count": null,
   "metadata": {
    "collapsed": false
   },
   "outputs": [],
   "source": [
    "port_scores_df = pd.concat(\n",
    "    [\n",
    "        port_df,\n",
    "        rtg.get_scores_from_ratings(\n",
    "            ratings=port_df[\"worst_rtg\"],\n",
    "            rating_provider=\"S&P\")\n",
    "    ],\n",
    "    axis=1\n",
    ")\n",
    "\n",
    "port_scores_df"
   ]
  },
  {
   "cell_type": "markdown",
   "metadata": {
    "collapsed": false
   },
   "source": [
    "Here, the [``get_scores_from_ratings``](../../api_reference/#pyratings.get_scores.get_scores_from_ratings)\n",
    "function has been used to translate the **worst_rtg** column into numerical scores.\n",
    "That is, we used a column that has already been consolidated.\n",
    "\n",
    "> **pyratings** offers some convenience functions that consolidate multiple ratings and\n",
    " directly compute the respective numerical rating scores.\n",
    " These functions are\n",
    "\n",
    "> * [``get_best_scores``](../../api_reference/#pyratings.consolidate.get_best_scores)\n",
    "> * [``get_second_best_scores``](../../api_reference/#pyratings.consolidate.get_second_best_scores)\n",
    "> * [``get_worst_scores``](../../api_reference/#pyratings.consolidate.get_worst_scores)\n",
    "\n",
    "Finally, we need to compute a weighted average rating score, which we subsequently\n",
    "convert back into a human-readable rating. For the former, we use the\n",
    "[``get_weighted_average``](../../api_reference/#pyratings.aggregate.get_weighted_average)\n",
    "function and for the latter the\n",
    "[``get_ratings_from_scores``](../../api_reference/#pyratings.get_ratings.get_ratings_from_scores)\n",
    "function."
   ]
  },
  {
   "cell_type": "code",
   "execution_count": null,
   "metadata": {
    "collapsed": false
   },
   "outputs": [],
   "source": [
    "avg_rtg_score = rtg.get_weighted_average(\n",
    "    data=port_scores_df[\"rtg_score_worst_rtg\"],\n",
    "    weights=port_scores_df[\"weight\"] / 100,\n",
    ")\n",
    "\n",
    "print(f\"Average rating score: {avg_rtg_score:.2f}\")"
   ]
  },
  {
   "cell_type": "code",
   "execution_count": null,
   "metadata": {
    "collapsed": false
   },
   "outputs": [],
   "source": [
    "avg_rtg = rtg.get_ratings_from_scores(\n",
    "    rating_scores=avg_rtg_score,\n",
    "    rating_provider=\"S&P\"\n",
    ")\n",
    "\n",
    "print(f\"Average portfolio rating: {avg_rtg}\")"
   ]
  },
  {
   "cell_type": "markdown",
   "source": [
    "There you go. The average rating of the portfolio is AA-.\n",
    "\n",
    "Do you prefer to show the rating using Moody's rating scale? — It's as simple as\n",
    "changing the ``rating_provider`` argument to \"Moody\"."
   ],
   "metadata": {
    "collapsed": false
   }
  },
  {
   "cell_type": "code",
   "execution_count": null,
   "outputs": [],
   "source": [
    "avg_rtg = rtg.get_ratings_from_scores(\n",
    "    rating_scores=avg_rtg_score,\n",
    "    rating_provider=\"Moody\"\n",
    ")\n",
    "\n",
    "print(f\"Average portfolio rating: {avg_rtg}\")"
   ],
   "metadata": {
    "collapsed": false
   }
  }
 ],
 "metadata": {
  "kernelspec": {
   "display_name": "Python 3.10.8 ('.venv': venv)",
   "language": "python",
   "name": "python3"
  },
  "language_info": {
   "codemirror_mode": {
    "name": "ipython",
    "version": 2
   },
   "file_extension": ".py",
   "mimetype": "text/x-python",
   "name": "python",
   "nbconvert_exporter": "python",
   "pygments_lexer": "ipython2",
   "version": "3.10.8"
  },
  "vscode": {
   "interpreter": {
    "hash": "1eb5953f7418e8649defe61e456cd2c36f8d40cdcc64df0ff7d731451339d149"
   }
  }
 },
 "nbformat": 4,
 "nbformat_minor": 0
}
