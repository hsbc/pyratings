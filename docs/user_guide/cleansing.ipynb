{
 "cells": [
  {
   "cell_type": "markdown",
   "metadata": {
    "collapsed": false
   },
   "source": [
    "# Data cleansing\n",
    "When working with data, you seldom get data that you can directly work with.\n",
    "Oftentimes your data are kind of messy, e.g. there might be missing data, outliers\n",
    "etc.<br>\n",
    "With respect to credit ratings, rating agencies often attach rating outlooks or\n",
    "rating watches. They should indicate in what direction the rating agency will\n",
    "probably change the rating going forward. When an outlook has been assigned to a\n",
    "rating, it might look something like _AA- *+_, i.e. the outlook follows the star sign.\n",
    "\n",
    "These \"attachments\" do create some harm. Consider a _BBB-_ rating with a negative\n",
    "outlook. This means that the rating agency might lower the rating in the\n",
    "foreseeable future. What rating score should such a rating get assigned? Usually, a\n",
    "_BBB-_ rating is equivalent to a rating score of 10 (see\n",
    "[Long-term ratings](../../long_term_ratings/)).<br>\n",
    "Should we assign a rating score of 11 just because of the watch? — Probably not!<br>\n",
    "Firstly, the rating hasn't been lowered as of today, and, secondly, a lower rating in\n",
    " the future is not certain at all.\n",
    "\n",
    "As a matter of fact, when considering the current status quo, most of the time the best\n",
    "idea is to ignore credit outlooks and credit watches altogether. That is, clean your\n",
    "data!\n",
    "\n",
    "There is at least one other fact that makes cleansing necessary: Unsolicited ratings\n",
    ".<br>\n",
    "An unsolicited rating is usually designated by the letter \"u\", which is directly\n",
    "attached to the actual rating, e.g. _AA-u_. To translate the rating into a score and\n",
    "being able to use it properly in any kind of computation, you better get rid of\n",
    "this letter.\n",
    "\n",
    "For all these cases, **pyratings** offers a function called\n",
    "[``get_pure_ratings``](../../api_reference/#pyratings.clean.get_pure_ratings). Its\n",
    "sole purpose is to clean ratings, i.e. remove watches/outlooks and the letter \"u\".\n",
    "\n",
    "Before starting, let's import some libraries."
   ]
  },
  {
   "cell_type": "code",
   "execution_count": null,
   "metadata": {},
   "outputs": [],
   "source": [
    "import pandas as pd\n",
    "import numpy as np\n",
    "\n",
    "import pyratings as rtg"
   ]
  },
  {
   "cell_type": "markdown",
   "metadata": {},
   "source": [
    "\n",
    "## Cleaning single ratings"
   ]
  },
  {
   "cell_type": "code",
   "execution_count": null,
   "metadata": {
    "collapsed": false
   },
   "outputs": [],
   "source": [
    "unsolicited_rating = \"BBB+u\"\n",
    "rtg.get_pure_ratings(ratings=unsolicited_rating)"
   ]
  },
  {
   "cell_type": "code",
   "execution_count": null,
   "metadata": {
    "collapsed": false
   },
   "outputs": [],
   "source": [
    "rating_with_outlook = \"AA *-\"\n",
    "rtg.get_pure_ratings(ratings=rating_with_outlook)"
   ]
  },
  {
   "cell_type": "markdown",
   "metadata": {},
   "source": [
    "## Cleaning a ``pd.DataFrame``\n",
    "It's also possible to pass a ``pd.DataFrame`` and have all cells get cleaned at once.\n",
    "Also, note that the column headers will be suffixed (\"_clean\")."
   ]
  },
  {
   "cell_type": "code",
   "execution_count": null,
   "metadata": {
    "collapsed": false
   },
   "outputs": [],
   "source": [
    "rtg_df = pd.DataFrame(\n",
    "   data={\n",
    "       \"rtg_SP\": [\n",
    "           \"BB+ *-\",\n",
    "           \"BBB *+\",\n",
    "           np.nan,\n",
    "           \"AA- (Developing)\",\n",
    "           np.nan,\n",
    "           \"CCC+ (CwPositive)\",\n",
    "           \"BB+u\",\n",
    "       ],\n",
    "       \"rtg_Fitch\": [\n",
    "           \"BB+ *-\",\n",
    "           \"BBB *+\",\n",
    "           pd.NA,\n",
    "           \"AA- (Developing)\",\n",
    "           np.nan,\n",
    "           \"CCC+ (CwPositive)\",\n",
    "           \"BB+u\",\n",
    "       ],\n",
    "   },\n",
    ")\n",
    "\n",
    "rtg_df\n"
   ]
  },
  {
   "cell_type": "code",
   "execution_count": null,
   "metadata": {},
   "outputs": [],
   "source": [
    "rtg.get_pure_ratings(ratings=rtg_df)"
   ]
  }
 ],
 "metadata": {
  "kernelspec": {
   "display_name": "Python 3.10.8 ('.venv': venv)",
   "language": "python",
   "name": "python3"
  },
  "language_info": {
   "codemirror_mode": {
    "name": "ipython",
    "version": 3
   },
   "file_extension": ".py",
   "mimetype": "text/x-python",
   "name": "python",
   "nbconvert_exporter": "python",
   "pygments_lexer": "ipython3",
   "version": "3.10.8"
  },
  "vscode": {
   "interpreter": {
    "hash": "1eb5953f7418e8649defe61e456cd2c36f8d40cdcc64df0ff7d731451339d149"
   }
  }
 },
 "nbformat": 4,
 "nbformat_minor": 0
}
