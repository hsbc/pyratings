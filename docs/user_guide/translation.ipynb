{
 "cells": [
  {
   "cell_type": "markdown",
   "metadata": {},
   "source": [
    "# Translating ratings\n",
    "\n",
    "When working with ratings, you pretty fast come to the point where you need to do some\n",
    "computations, e.g. calculating the average rating of a portfolio.\n",
    "\n",
    "In these cases, you can't simply use human-readable ratings. You first need to translate\n",
    "these ratings into numerical rating scores. And when you are done with your\n",
    "computations and want to present your results, you have to translate rating scores\n",
    "back into human-readable ratings.\n",
    "\n",
    "When translating ratings into scores and vice versa, there's a difference\n",
    "between [long-term](../../long_term_ratings) and\n",
    "[short-term ratings](../../short_term_ratings) and **pyratings** actually uses\n",
    "different translation tables.\n",
    "\n",
    "## Ratings vs. numerical scores\n",
    "\n",
    "**pyratings** provides a number of functions that help to translate ratings into scores\n",
    "and vice versa. The respective [API Reference](../../api_reference) holds a number of\n",
    "concrete examples of how to apply these functions.\n",
    "\n",
    "- [``get_scores_from_ratings``](../../api_reference/#pyratings.get_scores.get_scores_from_ratings):\n",
    "  Convert regular ratings into numerical rating scores.\n",
    "- [``get_ratings_from_scores``](../../api_reference/#pyratings.get_ratings.get_ratings_from_scores):\n",
    "Convert numerical rating scores into regular ratings.\n",
    "\n",
    "For example, we can convert ``ratings_df`` into scores as follows:"
   ]
  },
  {
   "cell_type": "code",
   "execution_count": null,
   "metadata": {},
   "outputs": [],
   "source": [
    "import pandas as pd\n",
    "import numpy as np\n",
    "\n",
    "import pyratings as rtg"
   ]
  },
  {
   "cell_type": "code",
   "execution_count": null,
   "metadata": {},
   "outputs": [],
   "source": [
    "ratings_df = pd.DataFrame(\n",
    "    data=(\n",
    "        {\n",
    "            \"rating_S&P\": ['AAA', 'AA-', 'AA+', 'BB-', 'C'],\n",
    "            \"rating_Moody's\": ['Aa1', 'Aa3', 'Aa2', 'Ba3', 'Ca'],\n",
    "            \"rating_Fitch\": ['AA-', 'AA-', 'AA-', 'B+', 'C'],\n",
    "        }\n",
    "    ),\n",
    "    index=[f'security_{i}' for i in range(5)]\n",
    ")\n",
    "ratings_df\n"
   ]
  },
  {
   "cell_type": "code",
   "execution_count": null,
   "metadata": {},
   "outputs": [],
   "source": [
    "scores_df = rtg.get_scores_from_ratings(\n",
    "    ratings=ratings_df,\n",
    "    rating_provider=[\"SP\", \"Moody\", \"Fitch\"]\n",
    ")\n",
    "\n",
    "scores_df"
   ]
  },
  {
   "cell_type": "markdown",
   "source": [
    "Converting the numerical scores back into human-readable ratings is as easy as:"
   ],
   "metadata": {
    "collapsed": false
   }
  },
  {
   "cell_type": "code",
   "execution_count": null,
   "metadata": {},
   "outputs": [],
   "source": [
    "rtg.get_ratings_from_scores(\n",
    "    rating_scores=scores_df,\n",
    "    rating_provider=[\"SP\", \"Moody\", \"Fitch\"]\n",
    ")"
   ]
  },
  {
   "cell_type": "markdown",
   "metadata": {},
   "source": [
    "## Ratings vs. WARF\n",
    "**pyratings** also offers the possibility to translate ratings (or even rating scores)\n",
    "into WARF's and vice versa. Again, take a look at the individual function's references\n",
    "and study the examples.\n",
    "\n",
    "- [``get_warf_from_ratings``](../../api_reference/#pyratings.get_warf.get_warf_from_ratings):\n",
    "  Convert regular rating(s) to numerical WARF(s).\n",
    "- [``get_ratings_from_warf``](../../api_reference/#pyratings.get_ratings.get_ratings_from_warf):\n",
    "  Convert WARFs into regular ratings.\n",
    "\n",
    "For example, we can convert ``ratings_df`` into WARFs as follows:"
   ]
  },
  {
   "cell_type": "code",
   "execution_count": null,
   "metadata": {},
   "outputs": [],
   "source": [
    "rtg.get_warf_from_ratings(ratings=ratings_df)"
   ]
  },
  {
   "cell_type": "markdown",
   "metadata": {},
   "source": [
    "Again, when not specifying ``rating_provider``, **pyratings** tries to extract the\n",
    "appropriate rating provider automatically."
   ]
  }
 ],
 "metadata": {
  "kernelspec": {
   "display_name": "Python 3.10.8 ('.venv': venv)",
   "language": "python",
   "name": "python3"
  },
  "language_info": {
   "codemirror_mode": {
    "name": "ipython",
    "version": 3
   },
   "file_extension": ".py",
   "mimetype": "text/x-python",
   "name": "python",
   "nbconvert_exporter": "python",
   "pygments_lexer": "ipython3",
   "version": "3.10.8"
  },
  "vscode": {
   "interpreter": {
    "hash": "1eb5953f7418e8649defe61e456cd2c36f8d40cdcc64df0ff7d731451339d149"
   }
  }
 },
 "nbformat": 4,
 "nbformat_minor": 0
}
