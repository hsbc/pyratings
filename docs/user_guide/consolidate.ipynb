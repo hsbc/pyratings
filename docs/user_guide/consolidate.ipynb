{
 "cells": [
  {
   "cell_type": "markdown",
   "metadata": {},
   "source": [
    "# Consolidate ratings\n",
    "Oftentimes, an individual security/entity has ratings from several rating agencies. For\n",
    "example, a security might have a _BBB-_ rating from S&P, a _BBB_ rating from Fitch, and\n",
    "a _Ba1_ rating from Moody's.<br>\n",
    "Now, let's imagine your investment guidelines only allow investments in securities\n",
    "that have an investment grade rating, i.e. _Baa3/BBB-_ at a minimum. You might wonder\n",
    " which of the attached ratings is relevant? Is this particular security regarded as\n",
    " investment grade (as S&P and Fitch are indicating) or is it already a junk bond (as\n",
    " implied by Moody's)? — Well, there's no definitive answer, it simply depends.\n",
    "\n",
    "There are several ways to answer this question. **pyratings** offers the following three functions in order to consolidate multiple ratings into a final rating:\n",
    "\n",
    "1. [``get_best_ratings``](../../api_reference/#pyratings.consolidate.get_best_ratings)\n",
    "Choose the best rating among all rating agencies. That's the aggressive way.\n",
    "2. [``get_second_best_ratings``](../../api_reference/#pyratings.consolidate.get_second_best_ratings)\n",
    "Choose the second-best rating among all rating agencies. That's a less aggressive way.\n",
    "3. [``get_worst_ratings``](../../api_reference/#pyratings.consolidate.get_worst_ratings)\n",
    "Choose the worst rating among all rating agencies. That's the conservative way."
   ]
  },
  {
   "cell_type": "code",
   "metadata": {},
   "source": [
    "import pandas as pd\n",
    "\n",
    "import pyratings as rtg"
   ],
   "outputs": [],
   "execution_count": null
  },
  {
   "cell_type": "code",
   "metadata": {},
   "source": [
    "ratings_df = pd.DataFrame(\n",
    "    data=(\n",
    "        {\n",
    "            \"rating_S&P\": [\"AAA\", \"AA-\", \"AA+\", \"BB-\", \"C\"],\n",
    "            \"rating_Moody's\": [\"Aa1\", \"Aa3\", \"Aa2\", \"Ba3\", \"Ca\"],\n",
    "            \"rating_Fitch\": [\"AA-\", \"AA-\", \"AA-\", \"B+\", \"C\"],\n",
    "        }\n",
    "    ),\n",
    "    index=[f\"security_{i}\" for i in range(5)],\n",
    ")\n",
    "ratings_df"
   ],
   "outputs": [],
   "execution_count": null
  },
  {
   "cell_type": "code",
   "metadata": {},
   "source": [
    "best_ratings = rtg.get_best_ratings(\n",
    "    ratings=ratings_df, rating_provider_input=[\"S&P\", \"Moody\", \"Fitch\"]\n",
    ")\n",
    "\n",
    "second_best_ratings = rtg.get_second_best_ratings(\n",
    "    ratings=ratings_df, rating_provider_input=[\"S&P\", \"Moody\", \"Fitch\"]\n",
    ")\n",
    "worst_ratings = rtg.get_worst_ratings(\n",
    "    ratings=ratings_df, rating_provider_input=[\"S&P\", \"Moody\", \"Fitch\"]\n",
    ")\n",
    "\n",
    "pd.concat([best_ratings, second_best_ratings, worst_ratings], axis=1)"
   ],
   "outputs": [],
   "execution_count": null
  },
  {
   "cell_type": "markdown",
   "metadata": {},
   "source": [
    "Did you realize that the output dataframe only uses S&P/Fitch rating scales? If you\n",
    "prefer to get the results in a different ratings scale, you can specify the\n",
    "``rating_provider_output`` argument.\n",
    "Also, if you don't specify ``rating_provider_input``, **pyratings** tries to infer the correct rating provider from ``ratings_df`` column headers."
   ]
  },
  {
   "cell_type": "code",
   "metadata": {},
   "source": [
    "best_ratings = rtg.get_best_ratings(\n",
    "    ratings=ratings_df,\n",
    "    rating_provider_output=\"Moody\",\n",
    ")\n",
    "\n",
    "second_best_ratings = rtg.get_second_best_ratings(\n",
    "    ratings=ratings_df,\n",
    "    rating_provider_output=\"Moody\",\n",
    ")\n",
    "worst_ratings = rtg.get_worst_ratings(\n",
    "    ratings=ratings_df, rating_provider_output=\"Moody\"\n",
    ")\n",
    "\n",
    "pd.concat([best_ratings, second_best_ratings, worst_ratings], axis=1)"
   ],
   "outputs": [],
   "execution_count": null
  }
 ],
 "metadata": {
  "kernelspec": {
   "display_name": "Python 3.10.8 ('.venv': venv)",
   "language": "python",
   "name": "python3"
  },
  "language_info": {
   "codemirror_mode": {
    "name": "ipython",
    "version": 3
   },
   "file_extension": ".py",
   "mimetype": "text/x-python",
   "name": "python",
   "nbconvert_exporter": "python",
   "pygments_lexer": "ipython3",
   "version": "3.10.8"
  },
  "vscode": {
   "interpreter": {
    "hash": "1eb5953f7418e8649defe61e456cd2c36f8d40cdcc64df0ff7d731451339d149"
   }
  }
 },
 "nbformat": 4,
 "nbformat_minor": 0
}
